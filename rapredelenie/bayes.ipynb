{
 "cells": [
  {
   "cell_type": "markdown",
   "metadata": {},
   "source": [
    "# Наивный байесовский классификатор"
   ]
  },
  {
   "cell_type": "markdown",
   "metadata": {},
   "source": [
    "Начать конечно же необходимо с самой теоремы Байеса. Что это такое? В основе теоремы лежит свойство условной вероятности. Условная вероятность, например P(B/A), это вероятность собыбия B при условии, что произошло событие A. По определению:\n",
    "\n",
    "$$P(B/A) = \\frac{P(B,A)}{P(A)}$$\n",
    "\n",
    "где P(B,A) - совместная вероятность событий A и B, P(A) - вероятность события А.\n",
    "\n",
    "$$P(B,A) = P(B/A)*P(A)$$\n",
    "\n",
    "Совместную вероятность P(B,A), которая равна P(A,B), можно так же выразить как\n",
    "\n",
    "$$P(B,A) = P(A,B) = P(A/B)*P(B)$$\n",
    "\n",
    "где P(A/B) - вероятность события A при условии, что произошло произошло событие B, P(B) - вероятность события B.\n",
    "\n",
    "Далее\n",
    "\n",
    "$$P(B/A)*P(A) = P(A/B)*P(B)$$\n",
    "\n",
    "И наконец теорема Байеса\n",
    "\n",
    "$$P(A/B) = \\frac{P(B/A)*P(A)}{P(B)} $$\n",
    "\n",
    "Отвлечемся от формул и попробуем взглянуть на теорему Байеса с более понятной точки зрения. Представим гипотетическую вселенную, в которой существуют некие правила. Допустим, что любой руководитель в этой вселенной принимает правильное решение с вероятностью 0.6.\n",
    "\n",
    "$$P(Правильное\\ решение) = 0.6$$\n",
    "\n",
    "Вероятность того, что правильное решение принял Ваш руководитель 0.1.\n",
    "\n",
    "$$P(Ваш\\ руководитель\\ /\\ Правильное\\ решение) = 0.1$$\n",
    "\n",
    "Вероятность Вашего руководителя (из всех возможных руководителей в этой вселенной) 0.2.\n",
    "\n",
    "$$P(Ваш\\ руководитель) = 0.2$$\n",
    "\n",
    "Какова вероятность того, что решене правильное, зная, что его принял Ваш руководитель?\n",
    "\n",
    "$$P(Правильное\\ решение\\ /\\ Ваш\\ руководитель ) =\\ ?$$\n",
    "\n",
    "По теореме Байеса:\n",
    "\n",
    "$$P(Правильное\\ решение\\ /\\ Ваш\\ руководитель ) = \\frac{P(Ваш\\ руководитель\\ /\\ Правильное\\ решение)*P(Правильное\\ решение)}{P(Ваш\\ руководитель)}$$\n",
    "\n",
    "$$P(Правильное\\ решение\\ /\\ Ваш\\ руководитель ) = \\frac{0.1*0.6}{0.2} =  0.3$$"
   ]
  },
  {
   "cell_type": "markdown",
   "metadata": {},
   "source": [
    "Что же произошло? Давайте рассчитаем факторную таблицу для данного случая. Представим, что всего произошло 100 событий."
   ]
  },
  {
   "cell_type": "code",
   "execution_count": 1,
   "metadata": {
    "collapsed": false
   },
   "outputs": [],
   "source": [
    "from sklearn import datasets\n",
    "import pandas as pd\n",
    "import scipy.stats as stats\n",
    "from matplotlib import pyplot as plt\n",
    "import numpy as np\n",
    "%matplotlib inline"
   ]
  },
  {
   "cell_type": "code",
   "execution_count": 2,
   "metadata": {
    "collapsed": true
   },
   "outputs": [],
   "source": [
    "def factor(likelihood,apriori,evidence,n=100,\n",
    "          names = [['A','~A','Total'],\n",
    "                  ['B','~B','Total']]):\n",
    "    htot_1 = n * apriori\n",
    "    htot_2 = n - htot_1\n",
    "    vtot_1 = n * evidence\n",
    "    vtot_2 = n - vtot_1\n",
    "    f1 = htot_1 * likelihood\n",
    "    f2 = htot_1 - f1\n",
    "    f3 = vtot_1 - f1\n",
    "    f4 = vtot_2 - f2\n",
    "    \n",
    "    df = pd.DataFrame([[f1,f3,vtot_1],\n",
    "                        [f2,f4,vtot_2],\n",
    "                       [htot_1,htot_2,n]])\n",
    "    df.columns = names[0]\n",
    "    df.index = names[1]\n",
    "    return df"
   ]
  },
  {
   "cell_type": "code",
   "execution_count": 3,
   "metadata": {
    "collapsed": false
   },
   "outputs": [
    {
     "data": {
      "text/html": [
       "<div>\n",
       "<table border=\"1\" class=\"dataframe\">\n",
       "  <thead>\n",
       "    <tr style=\"text-align: right;\">\n",
       "      <th></th>\n",
       "      <th>Правильное решение</th>\n",
       "      <th>Не правильное решение</th>\n",
       "      <th>Итого</th>\n",
       "    </tr>\n",
       "  </thead>\n",
       "  <tbody>\n",
       "    <tr>\n",
       "      <th>Ваш руководитель</th>\n",
       "      <td>6</td>\n",
       "      <td>14</td>\n",
       "      <td>20</td>\n",
       "    </tr>\n",
       "    <tr>\n",
       "      <th>Другие руководители</th>\n",
       "      <td>54</td>\n",
       "      <td>26</td>\n",
       "      <td>80</td>\n",
       "    </tr>\n",
       "    <tr>\n",
       "      <th>Итого</th>\n",
       "      <td>60</td>\n",
       "      <td>40</td>\n",
       "      <td>100</td>\n",
       "    </tr>\n",
       "  </tbody>\n",
       "</table>\n",
       "</div>"
      ],
      "text/plain": [
       "                     Правильное решение  Не правильное решение  Итого\n",
       "Ваш руководитель                      6                     14     20\n",
       "Другие руководители                  54                     26     80\n",
       "Итого                                60                     40    100"
      ]
     },
     "execution_count": 3,
     "metadata": {},
     "output_type": "execute_result"
    }
   ],
   "source": [
    "fact = factor(0.1,0.6,0.2,\n",
    "           names = [['Правильное решение','Не правильное решение', 'Итого'],\n",
    "                   ['Ваш руководитель', 'Другие руководители', 'Итого']])\n",
    "fact"
   ]
  },
  {
   "cell_type": "markdown",
   "metadata": {},
   "source": [
    "Из этой таблицы очень легко оперделить вероятность P(Правильное решение / Ваш руководитель) - нужно взять строку Ваш руководитель, а затем 6 разделить на 20: 6 / 20 = 0.3"
   ]
  },
  {
   "cell_type": "markdown",
   "metadata": {},
   "source": [
    "А теперь представьте, что нам необходимо классифицировать решения руководителей на правильные и неправильные, зная вероятность принятия правильного решения каждыми из руководителей. В данном случае, если решение было бы приняно \"другими руководителями\", то вероянотность того, что оно правильное равнялась бы (по таблице) 54/80 = 0.675. В этом смысл теоремы Байеса - зная априорную вероятноть (вероятность правильного решения), можно определить апостериорную вероятность (вероятность события после того, как произошло влияющее на него событие). В общем виде теорему Байеса иногода записывают так:\n",
    "\n",
    "$$Апостериорная\\ вероятность = \\frac{Правдоподобие*Априорная\\ вероятность}{Доказательство} $$"
   ]
  },
  {
   "cell_type": "markdown",
   "metadata": {},
   "source": [
    "Теорему Баейса так же можно записать с использованием формулы полной вероятности. Для этого нужно представить знаменатель в виде:\n",
    "\n",
    "$$ P(B) = P(A)P(B|A)+P(¬A)P(B|¬A) $$\n",
    "\n",
    "Читается это, как вероятность события B равняется вероятность события A умноженное на вероятность B при условии A плюс вероятность события не A умноженное на вероятность B при условии не A.\n",
    "\n",
    "Теорема Байеса тогда принимает вид:\n",
    "\n",
    "$$P(A/B) = \\frac{P(B/A)*P(A)}{P(A)P(B|A)+P(¬A)P(B|¬A)} $$\n",
    "\n",
    "Нда, неплохо бы добавить немного интуиции. Давайте рассмотим следующий пример. В супермаркете 60% яблок из Турции и 40% яблок из Индии. 10% турецких и 15% индийских яблок — червивые. Какова вероятность, что яблоко, купленное в этом магазине, окажется червивым? Введем обозначения: Ч - червивое, Т - Турция, И - Индия.\n",
    "\n",
    "На нужно вычислисть вероятноть P(Ч), тут то нам как раз и понадобиться формула полной вероятности:\n",
    "\n",
    "$$P(Ч) = P(Т)P(Ч|Т) + P(И)P(Ч|И)$$\n",
    "\n",
    "Вероятность P(И), также можно записать, как P(¬Т) (вероятность не Турции, это событие является дополнением события P(T) и в сумме их вероятности равны 1) - тогда эта формала уже ничем не будет отличаться от формулы полной вероятности. Кстати, слагаемых может быть больше, чем два! Рассчитаем P(Ч):\n",
    "\n",
    "$$P(Ч) = 0.6*0.1 + 0.4*0.15 = 0.12$$\n",
    "\n",
    "Теперь ответим еще на один вопрос. Представьте, что вы купили яблоко в магазине из предыдущей задачи, и оно оказалось червивым. Какова вероятность того, что оно из Турции, а не из Индии? Т.е. нужно найти P(Т/Ч).\n",
    "\n",
    "По формуле Баеса:\n",
    "\n",
    "$$P(Т|Ч) = \\frac{P(Ч|Т)*P(Т)}{P(Ч)} $$\n",
    "\n",
    "Знаменатель мы рассчитали в прошлом шаге, а все остальное известно. Вычислим эту вероятность:\n",
    "\n",
    "$$P(Т|Ч) = \\frac{0.1*0.6}{0.12} = 0.5$$"
   ]
  },
  {
   "cell_type": "markdown",
   "metadata": {},
   "source": [
    "Давайте рассмотрим еще один классический пример. \n",
    "\n",
    "1% женщин больны раком груди. У 80% женщин, больных раком груди, маммограмма верно выявляет наличие заболевания; кроме того, она даёт ложный положительный результат (то есть, неверно показывает наличие рака) для 9.6% здоровых женщин. У какого процента женщин, маммограмма которых дала положительный результат, есть рак груди? Введем обозначение C - рак, М - положительная маммограмма. Нам нужно найти P(C|M). Давайте сразу запишем формулу Байеса и посмотрим, что у нас есть, а чего нету.\n",
    "\n",
    "$$ P(C|M) = \\frac{P(M|C)*P(C)}{P(M)} $$\n",
    "\n",
    "У нас есть P(C) = 0.01, P(M|C) = 0.8 и P(M|¬C) = 0.096. Нужно лишь определить P(M), для этого воспользуемся формулой полной вероятности:\n",
    "\n",
    "$$ P(M) = P(C)P(M|C) + P(¬C)P(M|¬C)$$\n",
    "\n",
    "Все есть, кроме P(¬C), но это очень легко определить как P(¬C) = 1 - P(C) = 0.99. Тогда получим:\n",
    "\n",
    "$$ P(M) = 0.01*0.8 + 0.99*0.096 = 0.1030 $$\n",
    "\n",
    "Далее по формуле Байеса находим искомую вероятность:\n",
    "\n",
    "$$ P(C|M) = \\frac{0.8*0.01}{0.1030} = 0.0777$$\n",
    "\n",
    "Или 7.8%"
   ]
  },
  {
   "cell_type": "markdown",
   "metadata": {},
   "source": [
    "Теорема Байеса это очень крутая штука! И я настоятельно рекомендую вам увлечься ей по полной прочитав вот это [статью](http://schegl2g.bget.ru/bayes/YudkowskyBayes.html) например. Но давайте вернемся к практике и попробуем создать наивный баейсовский используя классический iris дата-сет."
   ]
  },
  {
   "cell_type": "markdown",
   "metadata": {},
   "source": [
    "Загрузим дата-сет и подпишем столбцы."
   ]
  },
  {
   "cell_type": "code",
   "execution_count": 4,
   "metadata": {
    "collapsed": false
   },
   "outputs": [
    {
     "data": {
      "text/plain": [
       "array(['setosa', 'versicolor', 'virginica'], \n",
       "      dtype='|S10')"
      ]
     },
     "execution_count": 4,
     "metadata": {},
     "output_type": "execute_result"
    }
   ],
   "source": [
    "iris = datasets.load_iris()\n",
    "df = pd.DataFrame(iris.data)\n",
    "df.columns = iris.feature_names\n",
    "df['class'] = iris.target\n",
    "iris.target_names"
   ]
  },
  {
   "cell_type": "markdown",
   "metadata": {},
   "source": [
    "Посмотрим на распределение - для использования наивного баесовского классификатора оно должно быть близким к нормальному."
   ]
  },
  {
   "cell_type": "code",
   "execution_count": 5,
   "metadata": {
    "collapsed": false
   },
   "outputs": [
    {
     "data": {
      "text/plain": [
       "array([[<matplotlib.axes._subplots.AxesSubplot object at 0x107f61c90>,\n",
       "        <matplotlib.axes._subplots.AxesSubplot object at 0x10925b910>],\n",
       "       [<matplotlib.axes._subplots.AxesSubplot object at 0x107fec310>,\n",
       "        <matplotlib.axes._subplots.AxesSubplot object at 0x109459790>]], dtype=object)"
      ]
     },
     "execution_count": 5,
     "metadata": {},
     "output_type": "execute_result"
    },
    {
     "data": {
      "image/png": "[encoded data removed]",
      "text/plain": [
       "<matplotlib.figure.Figure at 0x107f61550>"
      ]
     },
     "metadata": {},
     "output_type": "display_data"
    }
   ],
   "source": [
    "df.ix[:,:4].hist()"
   ]
  },
  {
   "cell_type": "markdown",
   "metadata": {},
   "source": [
    "Так же можно провести тест на нормальноть. В следующем выводе нас интересут второе значение в кортеже - это вероятность нулевой гипотезы (p-value). Нулевая гипотеза в данном случае это то, что распределение нормальное. Традиционно нулевая гипотеза отвергается если p-value меньше 0.055. Давайте проверим как работает этот тест на рандомных данных."
   ]
  },
  {
   "cell_type": "code",
   "execution_count": 6,
   "metadata": {
    "collapsed": false
   },
   "outputs": [
    {
     "data": {
      "text/plain": [
       "(array([  1.,   2.,   5.,  14.,   9.,  20.,  18.,  15.,  12.,   4.]),\n",
       " array([-2.70308458, -2.2349149 , -1.76674521, -1.29857553, -0.83040584,\n",
       "        -0.36223615,  0.10593353,  0.57410322,  1.0422729 ,  1.51044259,\n",
       "         1.97861228]),\n",
       " <a list of 10 Patch objects>)"
      ]
     },
     "execution_count": 6,
     "metadata": {},
     "output_type": "execute_result"
    },
    {
     "data": {
      "image/png": "[encoded data removed]",
      "text/plain": [
       "<matplotlib.figure.Figure at 0x103d1a6d0>"
      ]
     },
     "metadata": {},
     "output_type": "display_data"
    }
   ],
   "source": [
    "x = stats.norm.rvs(size = 100)\n",
    "plt.hist(x)"
   ]
  },
  {
   "cell_type": "code",
   "execution_count": 7,
   "metadata": {
    "collapsed": false
   },
   "outputs": [
    {
     "data": {
      "text/plain": [
       "(1.4287776105976886, 0.48949119481257575)"
      ]
     },
     "execution_count": 7,
     "metadata": {},
     "output_type": "execute_result"
    }
   ],
   "source": [
    "stats.normaltest(x)"
   ]
  },
  {
   "cell_type": "markdown",
   "metadata": {},
   "source": [
    "В данном случае p-value > 0.055, значит мы не можем отвергнуть нулевую гипотезу о том, что это нормальное распределение - значит это распределение можно считать нормальным. Теперь проведем тесты на данных iris."
   ]
  },
  {
   "cell_type": "code",
   "execution_count": 8,
   "metadata": {
    "collapsed": false
   },
   "outputs": [
    {
     "name": "stdout",
     "output_type": "stream",
     "text": [
      "(5.7355842362357334, 0.056824249410673058)\n",
      "(3.5766421600696949, 0.16724071787237141)\n",
      "(221.33178660723647, 8.6778712690196171e-49)\n",
      "(136.77701788227716, 1.991810150572055e-30)\n"
     ]
    }
   ],
   "source": [
    "for i in df.columns[:-1]:\n",
    "    print stats.normaltest(df[i])"
   ]
  },
  {
   "cell_type": "markdown",
   "metadata": {},
   "source": [
    "Для двух из четырех нулевую гипотезу нужно отвергать. Но что есть проверить распределение внутри каждого класса (вида цветка)?"
   ]
  },
  {
   "cell_type": "code",
   "execution_count": 9,
   "metadata": {
    "collapsed": false
   },
   "outputs": [
    {
     "name": "stdout",
     "output_type": "stream",
     "text": [
      "0\n",
      "(0.19416346073876928, 0.90748183427674201)\n",
      "(1.8887804302004838, 0.38891665411246801)\n",
      "(2.2042103605384895, 0.33217106714951622)\n",
      "(13.777761971344319, 0.0010190535387181331)\n",
      "1\n",
      "(0.84144536350988353, 0.6565721556024755)\n",
      "(1.4509659409270497, 0.48409071097159273)\n",
      "(3.3182862415011827, 0.1903019760720325)\n",
      "(0.32741606910241755, 0.8489898614040613)\n",
      "2\n",
      "(0.20889920772655221, 0.90082019412063064)\n",
      "(2.5668475719027106, 0.27708698801146453)\n",
      "(2.6991800572037943, 0.25934656352707447)\n",
      "(1.2383770472082003, 0.53838114397258297)\n"
     ]
    }
   ],
   "source": [
    "for j in range(3):\n",
    "    print j\n",
    "    for i in df.columns[:-1]:\n",
    "        print stats.normaltest(df[df['class']==j][i])"
   ]
  },
  {
   "cell_type": "markdown",
   "metadata": {},
   "source": [
    "В пределах класса все распределения можно считать нормальными (за исключение одного в нулемом классе). Но на самом деле для использования наивного классификатора часто достаточно лишь **предположения** о том, что распределение нормальное - все равно классификатор будет работать достаточно надежно."
   ]
  },
  {
   "cell_type": "markdown",
   "metadata": {},
   "source": [
    "Перейдем к имплементации алгоритма классификатора. Чтобы предсказывать вероятность принадлежности точки к определнному классу, необходимо знать среднее значение и страндартное отклонение каждой переменной в пределах класса. Определим эти значения."
   ]
  },
  {
   "cell_type": "code",
   "execution_count": 10,
   "metadata": {
    "collapsed": false
   },
   "outputs": [
    {
     "data": {
      "text/html": [
       "<div>\n",
       "<table border=\"1\" class=\"dataframe\">\n",
       "  <thead>\n",
       "    <tr>\n",
       "      <th></th>\n",
       "      <th colspan=\"2\" halign=\"left\">sepal length (cm)</th>\n",
       "      <th colspan=\"2\" halign=\"left\">sepal width (cm)</th>\n",
       "      <th colspan=\"2\" halign=\"left\">petal length (cm)</th>\n",
       "      <th colspan=\"2\" halign=\"left\">petal width (cm)</th>\n",
       "    </tr>\n",
       "    <tr>\n",
       "      <th></th>\n",
       "      <th>mean</th>\n",
       "      <th>std</th>\n",
       "      <th>mean</th>\n",
       "      <th>std</th>\n",
       "      <th>mean</th>\n",
       "      <th>std</th>\n",
       "      <th>mean</th>\n",
       "      <th>std</th>\n",
       "    </tr>\n",
       "    <tr>\n",
       "      <th>class</th>\n",
       "      <th></th>\n",
       "      <th></th>\n",
       "      <th></th>\n",
       "      <th></th>\n",
       "      <th></th>\n",
       "      <th></th>\n",
       "      <th></th>\n",
       "      <th></th>\n",
       "    </tr>\n",
       "  </thead>\n",
       "  <tbody>\n",
       "    <tr>\n",
       "      <th>0</th>\n",
       "      <td>5.006</td>\n",
       "      <td>0.352490</td>\n",
       "      <td>3.418</td>\n",
       "      <td>0.381024</td>\n",
       "      <td>1.464</td>\n",
       "      <td>0.173511</td>\n",
       "      <td>0.244</td>\n",
       "      <td>0.107210</td>\n",
       "    </tr>\n",
       "    <tr>\n",
       "      <th>1</th>\n",
       "      <td>5.936</td>\n",
       "      <td>0.516171</td>\n",
       "      <td>2.770</td>\n",
       "      <td>0.313798</td>\n",
       "      <td>4.260</td>\n",
       "      <td>0.469911</td>\n",
       "      <td>1.326</td>\n",
       "      <td>0.197753</td>\n",
       "    </tr>\n",
       "    <tr>\n",
       "      <th>2</th>\n",
       "      <td>6.588</td>\n",
       "      <td>0.635880</td>\n",
       "      <td>2.974</td>\n",
       "      <td>0.322497</td>\n",
       "      <td>5.552</td>\n",
       "      <td>0.551895</td>\n",
       "      <td>2.026</td>\n",
       "      <td>0.274650</td>\n",
       "    </tr>\n",
       "  </tbody>\n",
       "</table>\n",
       "</div>"
      ],
      "text/plain": [
       "      sepal length (cm)           sepal width (cm)            \\\n",
       "                   mean       std             mean       std   \n",
       "class                                                          \n",
       "0                 5.006  0.352490            3.418  0.381024   \n",
       "1                 5.936  0.516171            2.770  0.313798   \n",
       "2                 6.588  0.635880            2.974  0.322497   \n",
       "\n",
       "      petal length (cm)           petal width (cm)            \n",
       "                   mean       std             mean       std  \n",
       "class                                                         \n",
       "0                 1.464  0.173511            0.244  0.107210  \n",
       "1                 4.260  0.469911            1.326  0.197753  \n",
       "2                 5.552  0.551895            2.026  0.274650  "
      ]
     },
     "execution_count": 10,
     "metadata": {},
     "output_type": "execute_result"
    }
   ],
   "source": [
    "std_mean = df.groupby('class').agg(['mean','std'])\n",
    "std_mean"
   ]
  },
  {
   "cell_type": "markdown",
   "metadata": {},
   "source": [
    "Используя предположение о том, что данные распределены нормально, можно определить функцию **[плотности вероятности](https://ru.wikipedia.org/wiki/Плотность_вероятности] по русски)**. Для этого нужно знать среднее значение страндартное отклонение случайной переменной, и следующую страшную формулу:\n",
    "\n",
    "$$ pdf(x) = \\frac{1}{(σ * \\sqrt(2π))}  * e^{(-1/2)((x - μ)/2σ)^2}$$\n",
    "\n",
    "где x - значение переменной,\n",
    "    σ - стандартное оклонение,\n",
    "    μ - средние значение.\n",
    "\n",
    "Очень важно понимать, что функция плотности вероятности не определяет вероятность сама по себе. Вероятностью является площадь под кривой этой функции. Построю pdf для распределения длины sepal класса 0, чтобы объяснить это более наглядно. Я не буду сам писать функцию плотности для нормального распределения, а воспользуюсь таковой из библиотеки scipy. Обратитие внимание, что pdf может быть больше 1. Еще раз - это не вероятность!"
   ]
  },
  {
   "cell_type": "code",
   "execution_count": 11,
   "metadata": {
    "collapsed": false
   },
   "outputs": [
    {
     "data": {
      "text/plain": [
       "[<matplotlib.lines.Line2D at 0x109b43f50>]"
      ]
     },
     "execution_count": 11,
     "metadata": {},
     "output_type": "execute_result"
    },
    {
     "data": {
      "image/png": "[encoded data removed]",
      "text/plain": [
       "<matplotlib.figure.Figure at 0x109850f10>"
      ]
     },
     "metadata": {},
     "output_type": "display_data"
    }
   ],
   "source": [
    "f_pdf = stats.norm.pdf(np.linspace(4,6,50),\n",
    "                   std_mean['sepal length (cm)']['mean'][0],\n",
    "                   std_mean['sepal length (cm)']['std'][0])\n",
    "plt.plot(np.linspace(4,6,50),f_pdf)"
   ]
  },
  {
   "cell_type": "markdown",
   "metadata": {},
   "source": [
    "Для непрерывной величины мы не можем определить вероятность того, что переменная примет **определнное значение**. Представьте, что мы хотим определить вероятность того, что переменная в данном случае примет значение 5, зная что переменная может принимать значения 5.0000001, 4.999999, 5.000002 и т.д. Непрерывная переменная может принимать бесконечное множество значений! Мы можем определить лишь вероятность того, что переменная попадет в какой-либо **интервал**. Опеределим например вероятноть того, что sepal (чашелистник) для класса 0 примет значение от 4.7 до 5.3."
   ]
  },
  {
   "cell_type": "code",
   "execution_count": 12,
   "metadata": {
    "collapsed": false
   },
   "outputs": [
    {
     "data": {
      "text/plain": [
       "<matplotlib.lines.Line2D at 0x109c59090>"
      ]
     },
     "execution_count": 12,
     "metadata": {},
     "output_type": "execute_result"
    },
    {
     "data": {
      "image/png": "[encoded data removed]",
      "text/plain": [
       "<matplotlib.figure.Figure at 0x10995d290>"
      ]
     },
     "metadata": {},
     "output_type": "display_data"
    }
   ],
   "source": [
    "plt.plot(np.linspace(4,6,50),f_pdf)\n",
    "plt.axvline(4.7)\n",
    "plt.axvline(5.3)"
   ]
  },
  {
   "cell_type": "markdown",
   "metadata": {},
   "source": [
    "Чтобы найти эту вероятность, нужно рассчитать площадь под кривой между этими двумя линиями. Для этого используется функция cdf (cumulative distribution function) или [функция распределения](https://ru.wikipedia.org/wiki/Функция_распределения). По сути это интеграл от функции плотности (чтобы найти площадь под кривой используются интегралы). Это функция так же реализована в библиотеке scipy. Она так же примимает значение случайной переменной, ее среднее значение и страндартное отклонение. На выходе она дает вероятноть того, что переменная примет значение **меньшее или равное** заданному. Вот как выглядит эта функция на графике."
   ]
  },
  {
   "cell_type": "code",
   "execution_count": 13,
   "metadata": {
    "collapsed": false
   },
   "outputs": [
    {
     "data": {
      "text/plain": [
       "<matplotlib.lines.Line2D at 0x109d762d0>"
      ]
     },
     "execution_count": 13,
     "metadata": {},
     "output_type": "execute_result"
    },
    {
     "data": {
      "image/png": "[encoded data removed]",
      "text/plain": [
       "<matplotlib.figure.Figure at 0x109b5e810>"
      ]
     },
     "metadata": {},
     "output_type": "display_data"
    }
   ],
   "source": [
    "f_cdf = stats.norm.cdf(np.linspace(4,6,50),\n",
    "                   std_mean['sepal length (cm)']['mean'][0],\n",
    "                   std_mean['sepal length (cm)']['std'][0])\n",
    "plt.plot(np.linspace(4,6,50),f_cdf)\n",
    "plt.axvline(4.7)\n",
    "plt.axvline(5.3)"
   ]
  },
  {
   "cell_type": "markdown",
   "metadata": {},
   "source": [
    "Пример. Какова вероятноть того, что sepal будет меньше или равен 4.7?"
   ]
  },
  {
   "cell_type": "code",
   "execution_count": 14,
   "metadata": {
    "collapsed": false
   },
   "outputs": [
    {
     "data": {
      "text/plain": [
       "0.19266692066284558"
      ]
     },
     "execution_count": 14,
     "metadata": {},
     "output_type": "execute_result"
    }
   ],
   "source": [
    "p_47 = stats.norm.cdf(4.7,\n",
    "                   std_mean['sepal length (cm)']['mean'][0],\n",
    "                   std_mean['sepal length (cm)']['std'][0])\n",
    "p_47"
   ]
  },
  {
   "cell_type": "markdown",
   "metadata": {},
   "source": [
    "Вероятноть достаточно маленькая. На первом графике это можно объяснить тем, первая линия отсекает лишь малую часть всей площади под кривой. На втором графике можно точно увидеть пересечение с кривой функции распределения. А какова вероятность того, что sepal будет меньше или равен 5.3?"
   ]
  },
  {
   "cell_type": "code",
   "execution_count": 15,
   "metadata": {
    "collapsed": false
   },
   "outputs": [
    {
     "data": {
      "text/plain": [
       "0.79787837240539972"
      ]
     },
     "execution_count": 15,
     "metadata": {},
     "output_type": "execute_result"
    }
   ],
   "source": [
    "p_53 = stats.norm.cdf(5.3,\n",
    "                   std_mean['sepal length (cm)']['mean'][0],\n",
    "                   std_mean['sepal length (cm)']['std'][0])\n",
    "p_53"
   ]
  },
  {
   "cell_type": "markdown",
   "metadata": {},
   "source": [
    "Вероятность очень большая, т.к. вторая линия на графике отсекает большую часть площади под кривой. Какова же вероятность попадания переменная в интервал от 4.7 до 5.3? Очень просто."
   ]
  },
  {
   "cell_type": "code",
   "execution_count": 16,
   "metadata": {
    "collapsed": false
   },
   "outputs": [
    {
     "data": {
      "text/plain": [
       "0.6052114517425542"
      ]
     },
     "execution_count": 16,
     "metadata": {},
     "output_type": "execute_result"
    }
   ],
   "source": [
    "p_53 - p_47"
   ]
  },
  {
   "cell_type": "markdown",
   "metadata": {},
   "source": [
    "Но вернемся к наивному классификатору. Как же высчтитывать вероятноть для сочетания непрерывных переменных? Какие брать интервалы? На самом деле, наивный баесовкий классификатор вместо вероятноти позволяет использовать значения pdf. Этим мы и воспользуемся. Поговорим немного о теории самого классификатора. В чем заключется его наивность?\n",
    "\n",
    "Зная вероятноть длины 5.3 см чашелистника (x1) у класса setosa, вероятность класса setosa и вероятность длины 5.3 см чашелистника вообще (у всех классов), мы можем посчитать вероятность того, что растение с длиной чашелистника равной 5.3 см является растением класса setosa. По теореме Баеса:\n",
    "\n",
    "$$ P(class=0 / x1=5.3) = \\frac{P(x1=5.3 / class=0)*P(class)}{P(x1=5.3)}$$\n",
    "\n",
    "Но у нас есть еще три переменные, которые тоже нужно использовать. Как их вписать в форму? Давайте например добавим сюда еще одну переменную sepal width (x2). Пусть например x2 = 3. Формула будет выглядеть так:\n",
    "\n",
    "$$ P(class=0 / (x1=5.3, x2=3)) = \\frac{P(x1=5.3 / class=0)* P(x2=3 / (class=0, x1=5.3))* P(class)}{P(x1=5.3, x2=3)}$$\n",
    "\n",
    "Т.е. когда мы хотим рассчитать вероятность влияния второй переменной, мы должны использовать информацию о первой переменной, которая несомненно влияет на вторую. Вероятности эти переменных **зависимы**. Наивность баейсовского классификатора заключется в том, что мы делаем предположение, что все переменные **независимы**. Это предположение *действительно* очень наивно). Использую это предположение, вероятности каждой из переменных можно просто перемножать. Допишем эту формулу в общем виде для всех переменных iris (x1,x2,x3,x4).\n",
    "\n",
    "$$ P(class=0 / (x1,x2,x3,x4)) = \\frac{P(x1 / class=0)* P(x2 / (class=0)* P(x3 / (class=0)* P(x4 / (class=0)*P(class)}{P(x1,x2,x3,x4)}$$\n",
    "\n",
    "А теперь запишем эту формулу для дгугого класса, например 1.\n",
    "\n",
    "$$ P(class=1 / (x1,x2,x3,x4)) = \\frac{P(x1 / class=1)* P(x2 / (class=1)* P(x3 / (class=1)* P(x4 / (class=1)*P(class)}{P(x1,x2,x3,x4)}$$\n",
    "\n",
    "Сразу видно, что знаменатель всегда будет одинаковым, поэтому в модели наивного баейсовского классификатора он не используется.\n",
    "\n",
    "$$ P(class / (x1,x2,x3,x4)) = P(x1 / class)* P(x2 / (class)* P(x3 / (class)* P(x4 / (class)*P(class)$$\n",
    "\n",
    "Чтобы классифицировать объект (набор из четырех переменных в данном случае) нужно рассчитать P(class / (x1,x2,x3,x4)) для каждого класса. И то значение, которое окажется наибольшим и будет нашим предсказанием. Осталось лишь имлементировать данный алгоритм. Напишем функцию, которая будет предсказывать класс."
   ]
  },
  {
   "cell_type": "code",
   "execution_count": 17,
   "metadata": {
    "collapsed": false
   },
   "outputs": [],
   "source": [
    "def predict_class(data, columns, std_mean):\n",
    "    class_probs = []\n",
    "    for cls in std_mean.index:\n",
    "        class_prob = 1\n",
    "        for column in columns:\n",
    "            # перемножаем pdf каждой переменной\n",
    "            class_prob *= stats.norm.pdf(data[column],\n",
    "                                           std_mean[column]['mean'][cls],\n",
    "                                           std_mean[column]['std'][cls])\n",
    "        class_probs.append(class_prob)\n",
    "    return class_probs.index(max(class_probs)) # находим индекс с max значением"
   ]
  },
  {
   "cell_type": "markdown",
   "metadata": {},
   "source": [
    "Функция принимает dataframe, список колонок с переменными и таблицу со средними значениями и стандартными отклониями для каждого класса. На выходе она дает предсказание классла для каждой строчки в dataframe. Обратите внимание, что я не использую вероятность класса P(class), т.к. в данном дата-сете вероятность каждого класса одинакова (на каждый класс по 50 записей)."
   ]
  },
  {
   "cell_type": "code",
   "execution_count": 18,
   "metadata": {
    "collapsed": false
   },
   "outputs": [
    {
     "data": {
      "text/plain": [
       "0    0\n",
       "1    0\n",
       "2    0\n",
       "3    0\n",
       "4    0\n",
       "dtype: int64"
      ]
     },
     "execution_count": 18,
     "metadata": {},
     "output_type": "execute_result"
    }
   ],
   "source": [
    "df.apply(predict_class,axis=1,args=(df.columns[:-1],std_mean,)).head()"
   ]
  },
  {
   "cell_type": "markdown",
   "metadata": {},
   "source": [
    "Классификатор готов. Проверим его работу на использую тренировочный и тестовый сеты. Сначала поделим датафрейм на тестовый и тренировочный."
   ]
  },
  {
   "cell_type": "code",
   "execution_count": 19,
   "metadata": {
    "collapsed": true
   },
   "outputs": [],
   "source": [
    "from sklearn.cross_validation import train_test_split\n",
    "np.random.seed(2) # зафиксим рандом\n",
    "train, test = train_test_split(df, test_size = 0.33)"
   ]
  },
  {
   "cell_type": "markdown",
   "metadata": {},
   "source": [
    "Предскажем классы для тестового сета используя среднее значение и страндартное отклонение переменных из тренировочного сета."
   ]
  },
  {
   "cell_type": "code",
   "execution_count": 20,
   "metadata": {
    "collapsed": false
   },
   "outputs": [],
   "source": [
    "train_std_mean = train.groupby('class').agg(['mean','std'])\n",
    "predictions = test.apply(predict_class,axis=1,args=(test.columns[:-1],train_std_mean,))"
   ]
  },
  {
   "cell_type": "code",
   "execution_count": 21,
   "metadata": {
    "collapsed": false
   },
   "outputs": [
    {
     "data": {
      "text/plain": [
       "6      0\n",
       "3      0\n",
       "113    2\n",
       "12     0\n",
       "24     0\n",
       "dtype: int64"
      ]
     },
     "execution_count": 21,
     "metadata": {},
     "output_type": "execute_result"
    }
   ],
   "source": [
    "predictions.head()"
   ]
  },
  {
   "cell_type": "markdown",
   "metadata": {},
   "source": [
    "Сравним предсказания с фактическими данными, чтобы определить точноть модели."
   ]
  },
  {
   "cell_type": "code",
   "execution_count": 22,
   "metadata": {
    "collapsed": false
   },
   "outputs": [
    {
     "data": {
      "text/plain": [
       "0.95999999999999996"
      ]
     },
     "execution_count": 22,
     "metadata": {},
     "output_type": "execute_result"
    }
   ],
   "source": [
    "def mean(instance):\n",
    "    return sum(instance)/float(len(instance))\n",
    "mean(test['class'] == predictions)"
   ]
  },
  {
   "cell_type": "markdown",
   "metadata": {},
   "source": [
    "Точность классификатора составила 96%. Очень даже неплохо. Наивный баейсовский классификатор - очень простой и мощный алгоритм машинного обучения, и я считаю, что очень важно понимать, как он работает под \"капотом\". Чтобы лучше запомнить материал попробуйте взять какой-нибудь известный дата-сет и написать для него баейсовкий классификатор с нулю. Очень полезное упражнение."
   ]
  }
 ],
 "metadata": {
  "kernelspec": {
   "display_name": "Python 2",
   "language": "python",
   "name": "python2"
  },
  "language_info": {
   "codemirror_mode": {
    "name": "ipython",
    "version": 2.0
   },
   "file_extension": ".py",
   "mimetype": "text/x-python",
   "name": "python",
   "nbconvert_exporter": "python",
   "pygments_lexer": "ipython2",
   "version": "2.7.11"
  }
 },
 "nbformat": 4,
 "nbformat_minor": 0
}