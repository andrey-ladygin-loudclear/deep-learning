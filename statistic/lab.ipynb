{
 "cells": [
  {
   "cell_type": "markdown",
   "metadata": {},
   "source": [
    "# Центральная предельная теорема"
   ]
  },
  {
   "cell_type": "code",
   "execution_count": 1,
   "metadata": {
    "collapsed": false
   },
   "outputs": [],
   "source": [
    "import math\n",
    "import numpy as np\n",
    "import scipy.stats as st\n",
    "from matplotlib import pylab as plt"
   ]
  },
  {
   "cell_type": "markdown",
   "metadata": {},
   "source": [
    "Добрый день! \n",
    "alpha = 5\n",
    "beta = 1. Среднее и дисперсия определены следующим образом: \n",
    "\n",
    "$$\\mu = \\frac{\\alpha}{\\alpha + \\beta} $$ \n",
    "\n",
    "$$\\sigma^2 = \\frac{\\alpha\\beta}{(\\alpha + \\beta)^2(\\alpha + \\beta +1)} $$\n",
    "\n",
    "\n"
   ]
  },
  {
   "cell_type": "code",
   "execution_count": 2,
   "metadata": {
    "collapsed": true
   },
   "outputs": [],
   "source": [
    "A = 5.\n",
    "B = 1.\n",
    "\n",
    "beta_rv = st.beta(A, B)\n",
    "\n",
    "MU = A / (A + B)\n",
    "DISPERSION = (A * B) / (((A + B)**2)*(A+B+1))\n",
    "SIGMA = math.sqrt(DISPERSION)"
   ]
  },
  {
   "cell_type": "markdown",
   "metadata": {},
   "source": [
    "Построем график нашей функции\n"
   ]
  },
  {
   "cell_type": "code",
   "execution_count": 3,
   "metadata": {
    "collapsed": false
   },
   "outputs": [],
   "source": [
    "def show_beta_func_graph(N):\n",
    "    def add_theoretical(N):\n",
    "        x = np.linspace(0,1,N)\n",
    "        pdf = beta_rv.pdf(x)\n",
    "        plt.plot(x, pdf, label='theoretical pdf', c='r', alpha=0.5)\n",
    "\n",
    "    def add_practical_hist(N, bins=50):\n",
    "        stats = beta_rv.rvs(N)\n",
    "        plt.hist(stats, bins, normed=True, facecolor='green', alpha=0.5, label='actual', edgecolor='black', linewidth=.2)\n",
    "\n",
    "    fig = plt.figure()\n",
    "    fig.suptitle('Beta Function', fontsize=20)\n",
    "    plt.ylabel('$f(x)$', fontsize=18)\n",
    "    plt.xlabel('$x$', fontsize=18)\n",
    "    add_practical_hist(N, 30)\n",
    "    add_theoretical(N)\n",
    "    plt.show()\n",
    "    plt.clf()\n",
    "show_beta_func_graph(1000)"
   ]
  },
  {
   "cell_type": "code",
   "execution_count": 5,
   "metadata": {
    "collapsed": false
   },
   "outputs": [],
   "source": [
    "MU = a/(a+b)\n",
    "VAR = (a*b)/(((a+b)**2)*(a+b+1))\n",
    "SIGMA = sqrt(VAR)\n",
    "MU, SIGMA"
   ]
  },
  {
   "cell_type": "markdown",
   "metadata": {},
   "source": [
    "Теперь напишу функцию для генерации выборок и подсчета выборочных средних. В вывод так же включу теоретические и приближенные значения параметров, а так же график теоретического нормального распределения."
   ]
  },
  {
   "cell_type": "code",
   "execution_count": 6,
   "metadata": {
    "collapsed": false
   },
   "outputs": [],
   "source": [
    "def clt(sample,sub_sample_size,n_sub_samples=1000):\n",
    "    means = []\n",
    "    for i in range(n_sub_samples):\n",
    "        sub_sample = sample[np.random.randint(0,len(sample),sub_sample_size)]\n",
    "        means.append(np.mean(sub_sample))\n",
    "        \n",
    "    mu = np.mean(means)\n",
    "    sigma = np.std(means,ddof=1)\n",
    "    SE = SIGMA/sqrt(sub_sample_size) # стандартная ошибка среднего\n",
    "    \n",
    "    norm_rv = stats.norm(MU,SE)\n",
    "    \n",
    "    print 'Теоретическое среднее vs приближенное: {:.2f} vs {:.2f}'.format(MU,mu)\n",
    "    print 'Теоретическое стандартное откл. vs приближенное: {:.2f} vs {:.2f}'.format(SE,sigma)\n",
    "    print 'Приближенное среднее 95% доверительный интервал = {:.2f} +/- {:.2f}'.format(mu,2*SE)\n",
    "    \n",
    "    plt.hist(means,normed=True,label='actual')\n",
    "    plt.plot(x,norm_rv.pdf(x),label='theoretical')\n",
    "    plt.legend()\n",
    "    plt.ylabel('$f(x)$')\n",
    "    plt.xlabel('$x$')"
   ]
  },
  {
   "cell_type": "markdown",
   "metadata": {},
   "source": [
    "Запустим эту функцию для n = 5, 10 и 50."
   ]
  },
  {
   "cell_type": "code",
   "execution_count": 7,
   "metadata": {
    "collapsed": false
   },
   "outputs": [],
   "source": [
    "clt(sample_beta,5)"
   ]
  },
  {
   "cell_type": "code",
   "execution_count": 8,
   "metadata": {
    "collapsed": false
   },
   "outputs": [],
   "source": [
    "clt(sample_beta,10)"
   ]
  },
  {
   "cell_type": "code",
   "execution_count": 9,
   "metadata": {
    "collapsed": false
   },
   "outputs": [],
   "source": [
    "clt(sample_beta,50)"
   ]
  },
  {
   "cell_type": "markdown",
   "metadata": {},
   "source": [
    "Глядя на эти графики видно:\n",
    "\n",
    "1. Центральная предельная теорема действительно рабоет, и это приводит меня в неописуемый восторг!\n",
    "2. Даже при маленьком размере выбрки среднее уже неплохо приближено.\n",
    "3. Увеличение n \"уплотняет\" распределение выборочных средних, что говорит нам об увеличение точности оценки. В цифровом виде это можно выразить через доверительный интервал - видно, что с увеличением n он сужается.\n",
    "\n",
    "Спасибо за внимание!"
   ]
  },
  {
   "cell_type": "code",
   "execution_count": null,
   "metadata": {},
   "outputs": [],
   "source": [
    ""
   ]
  }
 ],
 "metadata": {
  "kernelspec": {
   "display_name": "Python 2",
   "language": "python",
   "name": "python2"
  },
  "language_info": {
   "codemirror_mode": {
    "name": "ipython",
    "version": 2.0
   },
   "file_extension": ".py",
   "mimetype": "text/x-python",
   "name": "python",
   "nbconvert_exporter": "python",
   "pygments_lexer": "ipython2",
   "version": "2.7.11"
  }
 },
 "nbformat": 4,
 "nbformat_minor": 0
}