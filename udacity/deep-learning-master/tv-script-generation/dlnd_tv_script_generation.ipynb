{
 "cells": [
  {
   "cell_type": "markdown",
   "metadata": {},
   "source": [
    "# TV Script Generation\n",
    "In this project, you'll generate your own [Simpsons](https://en.wikipedia.org/wiki/The_Simpsons) TV scripts using RNNs.  You'll be using part of the [Simpsons dataset](https://www.kaggle.com/wcukierski/the-simpsons-by-the-data) of scripts from 27 seasons.  The Neural Network you'll build will generate a new TV script for a scene at [Moe's Tavern](https://simpsonswiki.com/wiki/Moe's_Tavern).\n",
    "## Get the Data\n",
    "The data is already provided for you.  You'll be using a subset of the original dataset.  It consists of only the scenes in Moe's Tavern.  This doesn't include other versions of the tavern, like \"Moe's Cavern\", \"Flaming Moe's\", \"Uncle Moe's Family Feed-Bag\", etc.."
   ]
  },
  {
   "cell_type": "code",
   "execution_count": 1,
   "metadata": {
    "collapsed": true
   },
   "outputs": [],
   "source": [
    "\"\"\"\n",
    "DON'T MODIFY ANYTHING IN THIS CELL\n",
    "\"\"\"\n",
    "import helper\n",
    "\n",
    "data_dir = './data/simpsons/moes_tavern_lines.txt'\n",
    "text = helper.load_data(data_dir)\n",
    "# Ignore notice, since we don't use it for analysing the data\n",
    "text = text[81:]"
   ]
  },
  {
   "cell_type": "markdown",
   "metadata": {},
   "source": [
    "## Explore the Data\n",
    "Play around with `view_sentence_range` to view different parts of the data."
   ]
  },
  {
   "cell_type": "code",
   "execution_count": 2,
   "metadata": {},
   "outputs": [
    {
     "name": "stdout",
     "output_type": "stream",
     "text": [
      "Dataset Stats\n",
      "Roughly the number of unique words: 11492\n",
      "Number of scenes: 262\n",
      "Average number of sentences in each scene: 15.248091603053435\n",
      "Number of lines: 4257\n",
      "Average number of words in each line: 11.50434578341555\n",
      "\n",
      "The sentences 10 to 20:\n",
      "Moe_Szyslak: Ah, isn't that nice. Now, there is a politician who cares.\n",
      "Barney_Gumble: If I ever vote, it'll be for him. (BELCH)\n",
      "\n",
      "\n",
      "Barney_Gumble: Hey Homer, how's your neighbor's store doing?\n",
      "Homer_Simpson: Lousy. He just sits there all day. He'd have a great job if he didn't own the place. (CHUCKLES)\n",
      "Moe_Szyslak: (STRUGGLING WITH CORKSCREW) Crummy right-handed corkscrews! What does he sell?\n",
      "Homer_Simpson: Uh, well actually, Moe...\n",
      "HOMER_(CONT'D: I dunno.\n",
      "\n"
     ]
    }
   ],
   "source": [
    "view_sentence_range = (10, 20)\n",
    "\n",
    "\"\"\"\n",
    "DON'T MODIFY ANYTHING IN THIS CELL\n",
    "\"\"\"\n",
    "import numpy as np\n",
    "\n",
    "print('Dataset Stats')\n",
    "print('Roughly the number of unique words: {}'.format(len({word: None for word in text.split()})))\n",
    "scenes = text.split('\\n\\n')\n",
    "print('Number of scenes: {}'.format(len(scenes)))\n",
    "sentence_count_scene = [scene.count('\\n') for scene in scenes]\n",
    "print('Average number of sentences in each scene: {}'.format(np.average(sentence_count_scene)))\n",
    "\n",
    "sentences = [sentence for scene in scenes for sentence in scene.split('\\n')]\n",
    "print('Number of lines: {}'.format(len(sentences)))\n",
    "word_count_sentence = [len(sentence.split()) for sentence in sentences]\n",
    "print('Average number of words in each line: {}'.format(np.average(word_count_sentence)))\n",
    "\n",
    "print()\n",
    "print('The sentences {} to {}:'.format(*view_sentence_range))\n",
    "print('\\n'.join(text.split('\\n')[view_sentence_range[0]:view_sentence_range[1]]))"
   ]
  },
  {
   "cell_type": "markdown",
   "metadata": {},
   "source": [
    "## Implement Preprocessing Functions\n",
    "The first thing to do to any dataset is preprocessing.  Implement the following preprocessing functions below:\n",
    "- Lookup Table\n",
    "- Tokenize Punctuation\n",
    "\n",
    "### Lookup Table\n",
    "To create a word embedding, you first need to transform the words to ids.  In this function, create two dictionaries:\n",
    "- Dictionary to go from the words to an id, we'll call `vocab_to_int`\n",
    "- Dictionary to go from the id to word, we'll call `int_to_vocab`\n",
    "\n",
    "Return these dictionaries in the following tuple `(vocab_to_int, int_to_vocab)`"
   ]
  },
  {
   "cell_type": "code",
   "execution_count": 3,
   "metadata": {},
   "outputs": [
    {
     "name": "stdout",
     "output_type": "stream",
     "text": [
      "Tests Passed\n"
     ]
    }
   ],
   "source": [
    "import numpy as np\n",
    "import problem_unittests as tests\n",
    "from collections import Counter\n",
    "\n",
    "def create_lookup_tables(words):\n",
    "    \"\"\"\n",
    "    Create lookup tables for vocabulary\n",
    "    :param words: Input list of words\n",
    "    :return: A tuple of dicts.  The first dict....\n",
    "    \"\"\"\n",
    "    word_counts = Counter(words)\n",
    "    sorted_vocab = sorted(word_counts, key=word_counts.get, reverse=True)\n",
    "    int_to_vocab = {ii: word for ii, word in enumerate(sorted_vocab)}\n",
    "    vocab_to_int = {word: ii for ii, word in int_to_vocab.items()}\n",
    "\n",
    "    return vocab_to_int, int_to_vocab\n",
    "\n",
    "\n",
    "\"\"\"\n",
    "DON'T MODIFY ANYTHING IN THIS CELL THAT IS BELOW THIS LINE\n",
    "\"\"\"\n",
    "tests.test_create_lookup_tables(create_lookup_tables)"
   ]
  },
  {
   "cell_type": "markdown",
   "metadata": {},
   "source": [
    "### Tokenize Punctuation\n",
    "We'll be splitting the script into a word array using spaces as delimiters.  However, punctuations like periods and exclamation marks make it hard for the neural network to distinguish between the word \"bye\" and \"bye!\".\n",
    "\n",
    "Implement the function `token_lookup` to return a dict that will be used to tokenize symbols like \"!\" into \"||Exclamation_Mark||\".  Create a dictionary for the following symbols where the symbol is the key and value is the token:\n",
    "- Period ( . )\n",
    "- Comma ( , )\n",
    "- Quotation Mark ( \" )\n",
    "- Semicolon ( ; )\n",
    "- Exclamation mark ( ! )\n",
    "- Question mark ( ? )\n",
    "- Left Parentheses ( ( )\n",
    "- Right Parentheses ( ) )\n",
    "- Dash ( -- )\n",
    "- Return ( \\n )\n",
    "\n",
    "This dictionary will be used to token the symbols and add the delimiter (space) around it.  This separates the symbols as it's own word, making it easier for the neural network to predict on the next word. Make sure you don't use a token that could be confused as a word. Instead of using the token \"dash\", try using something like \"||dash||\"."
   ]
  },
  {
   "cell_type": "code",
   "execution_count": 4,
   "metadata": {},
   "outputs": [
    {
     "name": "stdout",
     "output_type": "stream",
     "text": [
      "Tests Passed\n"
     ]
    }
   ],
   "source": [
    "def token_lookup():\n",
    "    \"\"\"\n",
    "    Generate a dict to turn punctuation into a token.\n",
    "    :return: Tokenize dictionary where the key is the punctuation and the value is the token\n",
    "    \"\"\"\n",
    "    # TODO: Implement Function\n",
    "    tokens = {\n",
    "        '.': '||Period||',\n",
    "        ',': '||Comma||',\n",
    "        '\"': '||Quotation_Mark||',\n",
    "        ';': '||Semicolon||',\n",
    "        '!': '||Exclamation_mark||',\n",
    "        '?': '||Question_mark||',\n",
    "        '(': '||Left_Parentheses||',\n",
    "        ')': '||Right_Parentheses||',\n",
    "        '--': '||Dash||',\n",
    "        '\\n': '||Return||',\n",
    "    }\n",
    "    return tokens\n",
    "\n",
    "\"\"\"\n",
    "DON'T MODIFY ANYTHING IN THIS CELL THAT IS BELOW THIS LINE\n",
    "\"\"\"\n",
    "tests.test_tokenize(token_lookup)"
   ]
  },
  {
   "cell_type": "markdown",
   "metadata": {},
   "source": [
    "## Preprocess all the data and save it\n",
    "Running the code cell below will preprocess all the data and save it to file."
   ]
  },
  {
   "cell_type": "code",
   "execution_count": 5,
   "metadata": {
    "collapsed": true
   },
   "outputs": [],
   "source": [
    "\"\"\"\n",
    "DON'T MODIFY ANYTHING IN THIS CELL\n",
    "\"\"\"\n",
    "# Preprocess Training, Validation, and Testing Data\n",
    "helper.preprocess_and_save_data(data_dir, token_lookup, create_lookup_tables)"
   ]
  },
  {
   "cell_type": "markdown",
   "metadata": {},
   "source": [
    "# Check Point\n",
    "This is your first checkpoint. If you ever decide to come back to this notebook or have to restart the notebook, you can start from here. The preprocessed data has been saved to disk."
   ]
  },
  {
   "cell_type": "code",
   "execution_count": 6,
   "metadata": {
    "collapsed": true
   },
   "outputs": [],
   "source": [
    "\"\"\"\n",
    "DON'T MODIFY ANYTHING IN THIS CELL\n",
    "\"\"\"\n",
    "import helper\n",
    "import numpy as np\n",
    "import problem_unittests as tests\n",
    "\n",
    "int_text, vocab_to_int, int_to_vocab, token_dict = helper.load_preprocess()"
   ]
  },
  {
   "cell_type": "markdown",
   "metadata": {},
   "source": [
    "## Build the Neural Network\n",
    "You'll build the components necessary to build a RNN by implementing the following functions below:\n",
    "- get_inputs\n",
    "- get_init_cell\n",
    "- get_embed\n",
    "- build_rnn\n",
    "- build_nn\n",
    "- get_batches\n",
    "\n",
    "### Check the Version of TensorFlow and Access to GPU"
   ]
  },
  {
   "cell_type": "code",
   "execution_count": 7,
   "metadata": {},
   "outputs": [
    {
     "name": "stdout",
     "output_type": "stream",
     "text": [
      "TensorFlow Version: 1.0.0\n"
     ]
    },
    {
     "name": "stderr",
     "output_type": "stream",
     "text": [
      "/usr/local/lib/python3.5/dist-packages/ipykernel_launcher.py:14: UserWarning: No GPU found. Please use a GPU to train your neural network.\n",
      "  \n"
     ]
    }
   ],
   "source": [
    "\"\"\"\n",
    "DON'T MODIFY ANYTHING IN THIS CELL\n",
    "\"\"\"\n",
    "from distutils.version import LooseVersion\n",
    "import warnings\n",
    "import tensorflow as tf\n",
    "\n",
    "# Check TensorFlow Version\n",
    "assert LooseVersion(tf.__version__) >= LooseVersion('1.0'), 'Please use TensorFlow version 1.0 or newer'\n",
    "print('TensorFlow Version: {}'.format(tf.__version__))\n",
    "\n",
    "# Check for a GPU\n",
    "if not tf.test.gpu_device_name():\n",
    "    warnings.warn('No GPU found. Please use a GPU to train your neural network.')\n",
    "else:\n",
    "    print('Default GPU Device: {}'.format(tf.test.gpu_device_name()))"
   ]
  },
  {
   "cell_type": "markdown",
   "metadata": {},
   "source": [
    "### Input\n",
    "Implement the `get_inputs()` function to create TF Placeholders for the Neural Network.  It should create the following placeholders:\n",
    "- Input text placeholder named \"input\" using the [TF Placeholder](https://www.tensorflow.org/api_docs/python/tf/placeholder) `name` parameter.\n",
    "- Targets placeholder\n",
    "- Learning Rate placeholder\n",
    "\n",
    "Return the placeholders in the following tuple `(Input, Targets, LearningRate)`"
   ]
  },
  {
   "cell_type": "code",
   "execution_count": 17,
   "metadata": {},
   "outputs": [
    {
     "name": "stdout",
     "output_type": "stream",
     "text": [
      "Tests Passed\n"
     ]
    }
   ],
   "source": [
    "def get_inputs():\n",
    "    \"\"\"\n",
    "    Create TF Placeholders for input, targets, and learning rate.\n",
    "    :return: Tuple (input, targets, learning rate)\n",
    "    \"\"\"\n",
    "    # TODO: Implement Function\n",
    "    inputs = tf.placeholder(tf.int32, [None, None], name='input')\n",
    "    targets = tf.placeholder(tf.int32, [None, None], name='target')\n",
    "    learning = tf.placeholder(tf.float32, name='learning')\n",
    "    #learning = 0.001\n",
    "    return inputs, targets, learning\n",
    "\n",
    "\n",
    "\"\"\"\n",
    "DON'T MODIFY ANYTHING IN THIS CELL THAT IS BELOW THIS LINE\n",
    "\"\"\"\n",
    "tests.test_get_inputs(get_inputs)"
   ]
  },
  {
   "cell_type": "markdown",
   "metadata": {},
   "source": [
    "### Build RNN Cell and Initialize\n",
    "Stack one or more [`BasicLSTMCells`](https://www.tensorflow.org/api_docs/python/tf/contrib/rnn/BasicLSTMCell) in a [`MultiRNNCell`](https://www.tensorflow.org/api_docs/python/tf/contrib/rnn/MultiRNNCell).\n",
    "- The Rnn size should be set using `rnn_size`\n",
    "- Initalize Cell State using the MultiRNNCell's [`zero_state()`](https://www.tensorflow.org/api_docs/python/tf/contrib/rnn/MultiRNNCell#zero_state) function\n",
    "    - Apply the name \"initial_state\" to the initial state using [`tf.identity()`](https://www.tensorflow.org/api_docs/python/tf/identity)\n",
    "\n",
    "Return the cell and initial state in the following tuple `(Cell, InitialState)`"
   ]
  },
  {
   "cell_type": "code",
   "execution_count": 9,
   "metadata": {},
   "outputs": [
    {
     "name": "stdout",
     "output_type": "stream",
     "text": [
      "Tests Passed\n"
     ]
    }
   ],
   "source": [
    "def get_init_cell(batch_size, rnn_size):\n",
    "    \"\"\"\n",
    "    Create an RNN Cell and initialize it.\n",
    "    :param batch_size: Size of batches\n",
    "    :param rnn_size: Size of RNNs\n",
    "    :return: Tuple (cell, initialize state)\n",
    "    \"\"\"\n",
    "    # TODO: Implement Function\n",
    "    lstm = tf.contrib.rnn.BasicLSTMCell(rnn_size)\n",
    "    cell = tf.contrib.rnn.MultiRNNCell([lstm])\n",
    "    initialize_state = cell.zero_state(batch_size, tf.float32)\n",
    "\n",
    "    initialize_state = tf.identity(initialize_state, name='initial_state')\n",
    "\n",
    "    return cell, initialize_state\n",
    "\n",
    "\n",
    "\"\"\"\n",
    "DON'T MODIFY ANYTHING IN THIS CELL THAT IS BELOW THIS LINE\n",
    "\"\"\"\n",
    "tests.test_get_init_cell(get_init_cell)"
   ]
  },
  {
   "cell_type": "markdown",
   "metadata": {},
   "source": [
    "### Word Embedding\n",
    "Apply embedding to `input_data` using TensorFlow.  Return the embedded sequence."
   ]
  },
  {
   "cell_type": "code",
   "execution_count": 10,
   "metadata": {},
   "outputs": [
    {
     "name": "stdout",
     "output_type": "stream",
     "text": [
      "Tests Passed\n"
     ]
    }
   ],
   "source": [
    "def get_embed(input_data, vocab_size, embed_dim):\n",
    "    \"\"\"\n",
    "    Create embedding for <input_data>.\n",
    "    :param input_data: TF placeholder for text input.\n",
    "    :param vocab_size: Number of words in vocabulary.\n",
    "    :param embed_dim: Number of embedding dimensions\n",
    "    :return: Embedded input.\n",
    "    \"\"\"\n",
    "    embedding = tf.Variable(tf.random_uniform((vocab_size, embed_dim), -1, 1))\n",
    "    embed = tf.nn.embedding_lookup(embedding, input_data)\n",
    "    return embed\n",
    "\n",
    "\n",
    "\"\"\"\n",
    "DON'T MODIFY ANYTHING IN THIS CELL THAT IS BELOW THIS LINE\n",
    "\"\"\"\n",
    "tests.test_get_embed(get_embed)"
   ]
  },
  {
   "cell_type": "markdown",
   "metadata": {},
   "source": [
    "### Build RNN\n",
    "You created a RNN Cell in the `get_init_cell()` function.  Time to use the cell to create a RNN.\n",
    "- Build the RNN using the [`tf.nn.dynamic_rnn()`](https://www.tensorflow.org/api_docs/python/tf/nn/dynamic_rnn)\n",
    " - Apply the name \"final_state\" to the final state using [`tf.identity()`](https://www.tensorflow.org/api_docs/python/tf/identity)\n",
    "\n",
    "Return the outputs and final_state state in the following tuple `(Outputs, FinalState)` "
   ]
  },
  {
   "cell_type": "code",
   "execution_count": 11,
   "metadata": {},
   "outputs": [
    {
     "name": "stdout",
     "output_type": "stream",
     "text": [
      "Tests Passed\n"
     ]
    }
   ],
   "source": [
    "def build_rnn(cell, inputs):\n",
    "    \"\"\"\n",
    "    Create a RNN using a RNN Cell\n",
    "    :param cell: RNN Cell\n",
    "    :param inputs: Input text data\n",
    "    :return: Tuple (Outputs, Final State)\n",
    "    \"\"\"\n",
    "    # TODO: Implement Function\n",
    "    # Run each sequence step through the RNN with tf.nn.dynamic_rnn\n",
    "    #outputs, state = tf.nn.dynamic_rnn(cell, inputs, initial_state=inputs)\n",
    "    outputs, state = tf.nn.dynamic_rnn(cell, inputs, dtype=tf.float32)\n",
    "\n",
    "    state = tf.identity(state, name='final_state')\n",
    "\n",
    "    return outputs, state\n",
    "\n",
    "\n",
    "\"\"\"\n",
    "DON'T MODIFY ANYTHING IN THIS CELL THAT IS BELOW THIS LINE\n",
    "\"\"\"\n",
    "tests.test_build_rnn(build_rnn)"
   ]
  },
  {
   "cell_type": "markdown",
   "metadata": {},
   "source": [
    "### Build the Neural Network\n",
    "Apply the functions you implemented above to:\n",
    "- Apply embedding to `input_data` using your `get_embed(input_data, vocab_size, embed_dim)` function.\n",
    "- Build RNN using `cell` and your `build_rnn(cell, inputs)` function.\n",
    "- Apply a fully connected layer with a linear activation and `vocab_size` as the number of outputs.\n",
    "\n",
    "Return the logits and final state in the following tuple (Logits, FinalState) "
   ]
  },
  {
   "cell_type": "code",
   "execution_count": 12,
   "metadata": {},
   "outputs": [
    {
     "name": "stdout",
     "output_type": "stream",
     "text": [
      "Tests Passed\n"
     ]
    }
   ],
   "source": [
    "def build_nn(cell, rnn_size, input_data, vocab_size, embed_dim):\n",
    "    \"\"\"\n",
    "    Build part of the neural network\n",
    "    :param cell: RNN cell\n",
    "    :param rnn_size: Size of rnns\n",
    "    :param input_data: Input data\n",
    "    :param vocab_size: Vocabulary size\n",
    "    :param embed_dim: Number of embedding dimensions\n",
    "    :return: Tuple (Logits, FinalState)\n",
    "    \"\"\"\n",
    "    # TODO: Implement Function\n",
    "    embed = get_embed(input_data, vocab_size, embed_dim)\n",
    "    rnn, final_state = build_rnn(cell, embed)\n",
    "\n",
    "    logits = tf.contrib.layers.fully_connected(rnn, vocab_size)\n",
    "    return logits, final_state\n",
    "\n",
    "\n",
    "\"\"\"\n",
    "DON'T MODIFY ANYTHING IN THIS CELL THAT IS BELOW THIS LINE\n",
    "\"\"\"\n",
    "tests.test_build_nn(build_nn)"
   ]
  },
  {
   "cell_type": "markdown",
   "metadata": {},
   "source": [
    "### Batches\n",
    "Implement `get_batches` to create batches of input and targets using `int_text`.  The batches should be a Numpy array with the shape `(number of batches, 2, batch size, sequence length)`. Each batch contains two elements:\n",
    "- The first element is a single batch of **input** with the shape `[batch size, sequence length]`\n",
    "- The second element is a single batch of **targets** with the shape `[batch size, sequence length]`\n",
    "\n",
    "If you can't fill the last batch with enough data, drop the last batch.\n",
    "\n",
    "For exmple, `get_batches([1, 2, 3, 4, 5, 6, 7, 8, 9, 10, 11, 12, 13, 14, 15, 16, 17, 18, 19, 20], 3, 2)` would return a Numpy array of the following:\n",
    "```\n",
    "[\n",
    "  # First Batch\n",
    "  [\n",
    "    # Batch of Input\n",
    "    [[ 1  2], [ 7  8], [13 14]]\n",
    "    # Batch of targets\n",
    "    [[ 2  3], [ 8  9], [14 15]]\n",
    "  ]\n",
    "\n",
    "  # Second Batch\n",
    "  [\n",
    "    # Batch of Input\n",
    "    [[ 3  4], [ 9 10], [15 16]]\n",
    "    # Batch of targets\n",
    "    [[ 4  5], [10 11], [16 17]]\n",
    "  ]\n",
    "\n",
    "  # Third Batch\n",
    "  [\n",
    "    # Batch of Input\n",
    "    [[ 5  6], [11 12], [17 18]]\n",
    "    # Batch of targets\n",
    "    [[ 6  7], [12 13], [18  1]]\n",
    "  ]\n",
    "]\n",
    "```\n",
    "\n",
    "Notice that the last target value in the last batch is the first input value of the first batch. In this case, `1`. This is a common technique used when creating sequence batches, although it is rather unintuitive."
   ]
  },
  {
   "cell_type": "code",
   "execution_count": 14,
   "metadata": {},
   "outputs": [
    {
     "name": "stdout",
     "output_type": "stream",
     "text": [
      "Tests Passed\n"
     ]
    }
   ],
   "source": [
    "def get_batches(int_text, batch_size, seq_length):\n",
    "    \"\"\"\n",
    "    Return batches of input and target\n",
    "    :param int_text: Text with the words replaced by their ids\n",
    "    :param batch_size: The size of batch\n",
    "    :param seq_length: The length of sequence\n",
    "    :return: Batches as a Numpy array\n",
    "    \"\"\"\n",
    "    # TODO: Implement Function\n",
    "\n",
    "    # Drop the last few characters to make only full batches\n",
    "    n_batches = int(len(int_text) / (batch_size * seq_length))\n",
    "    batch_length = n_batches * batch_size * seq_length\n",
    "\n",
    "    xdata = np.array(int_text[: batch_length])\n",
    "    ydata = np.array(int_text[1: batch_length] + [0])\n",
    "\n",
    "    x_batches = np.split(xdata.reshape(batch_size, -1), n_batches, 1)\n",
    "    y_batches = np.split(ydata.reshape(batch_size, -1), n_batches, 1)\n",
    "    return np.asarray(list(zip(x_batches, y_batches)))\n",
    "\n",
    "\n",
    "\"\"\"\n",
    "DON'T MODIFY ANYTHING IN THIS CELL THAT IS BELOW THIS LINE\n",
    "\"\"\"\n",
    "tests.test_get_batches(get_batches)"
   ]
  },
  {
   "cell_type": "markdown",
   "metadata": {},
   "source": [
    "## Neural Network Training\n",
    "### Hyperparameters\n",
    "Tune the following parameters:\n",
    "\n",
    "- Set `num_epochs` to the number of epochs.\n",
    "- Set `batch_size` to the batch size.\n",
    "- Set `rnn_size` to the size of the RNNs.\n",
    "- Set `embed_dim` to the size of the embedding.\n",
    "- Set `seq_length` to the length of sequence.\n",
    "- Set `learning_rate` to the learning rate.\n",
    "- Set `show_every_n_batches` to the number of batches the neural network should print progress."
   ]
  },
  {
   "cell_type": "code",
   "execution_count": 15,
   "metadata": {
    "collapsed": true
   },
   "outputs": [],
   "source": [
    "# Number of Epochs\n",
    "num_epochs = 100\n",
    "# Batch Size\n",
    "batch_size = 128\n",
    "# RNN Size\n",
    "rnn_size = 512\n",
    "# Embedding Dimension Size\n",
    "embed_dim = 128\n",
    "# Sequence Length\n",
    "seq_length = 30\n",
    "# Learning Rate\n",
    "learning_rate = 0.01\n",
    "# Show stats for every n number of batches\n",
    "show_every_n_batches = 5\n",
    "\n",
    "\"\"\"\n",
    "DON'T MODIFY ANYTHING IN THIS CELL THAT IS BELOW THIS LINE\n",
    "\"\"\"\n",
    "save_dir = './save'"
   ]
  },
  {
   "cell_type": "markdown",
   "metadata": {},
   "source": [
    "### Build the Graph\n",
    "Build the graph using the neural network you implemented."
   ]
  },
  {
   "cell_type": "code",
   "execution_count": 18,
   "metadata": {},
   "outputs": [],
   "source": [
    "\"\"\"\n",
    "DON'T MODIFY ANYTHING IN THIS CELL\n",
    "\"\"\"\n",
    "from tensorflow.contrib import seq2seq\n",
    "\n",
    "train_graph = tf.Graph()\n",
    "with train_graph.as_default():\n",
    "    vocab_size = len(int_to_vocab)\n",
    "    input_text, targets, lr = get_inputs()\n",
    "    input_data_shape = tf.shape(input_text)\n",
    "    cell, initial_state = get_init_cell(input_data_shape[0], rnn_size)\n",
    "    logits, final_state = build_nn(cell, rnn_size, input_text, vocab_size, embed_dim)\n",
    "\n",
    "    # Probabilities for generating words\n",
    "    probs = tf.nn.softmax(logits, name='probs')\n",
    "\n",
    "    # Loss function\n",
    "    cost = seq2seq.sequence_loss(\n",
    "        logits,\n",
    "        targets,\n",
    "        tf.ones([input_data_shape[0], input_data_shape[1]]))\n",
    "\n",
    "    # Optimizer\n",
    "    optimizer = tf.train.AdamOptimizer(lr)\n",
    "\n",
    "    # Gradient Clipping\n",
    "    gradients = optimizer.compute_gradients(cost)\n",
    "    capped_gradients = [(tf.clip_by_value(grad, -1., 1.), var) for grad, var in gradients if grad is not None]\n",
    "    train_op = optimizer.apply_gradients(capped_gradients)"
   ]
  },
  {
   "cell_type": "markdown",
   "metadata": {},
   "source": [
    "## Train\n",
    "Train the neural network on the preprocessed data.  If you have a hard time getting a good loss, check the [forums](https://discussions.udacity.com/) to see if anyone is having the same problem."
   ]
  },
  {
   "cell_type": "code",
   "execution_count": 19,
   "metadata": {},
   "outputs": [
    {
     "name": "stdout",
     "output_type": "stream",
     "text": [
      "Epoch   0 Batch    0/17   train_loss = 8.822\n",
      "Epoch   0 Batch    5/17   train_loss = 6.850\n",
      "Epoch   0 Batch   10/17   train_loss = 6.345\n",
      "Epoch   0 Batch   15/17   train_loss = 6.086\n",
      "Epoch   1 Batch    3/17   train_loss = 6.020\n",
      "Epoch   1 Batch    8/17   train_loss = 5.935\n",
      "Epoch   1 Batch   13/17   train_loss = 5.884\n",
      "Epoch   2 Batch    1/17   train_loss = 5.756\n",
      "Epoch   2 Batch    6/17   train_loss = 5.657\n",
      "Epoch   2 Batch   11/17   train_loss = 5.732\n",
      "Epoch   2 Batch   16/17   train_loss = 5.522\n",
      "Epoch   3 Batch    4/17   train_loss = 5.450\n",
      "Epoch   3 Batch    9/17   train_loss = 5.328\n",
      "Epoch   3 Batch   14/17   train_loss = 5.358\n",
      "Epoch   4 Batch    2/17   train_loss = 5.234\n",
      "Epoch   4 Batch    7/17   train_loss = 5.294\n",
      "Epoch   4 Batch   12/17   train_loss = 5.203\n",
      "Epoch   5 Batch    0/17   train_loss = 5.089\n",
      "Epoch   5 Batch    5/17   train_loss = 5.069\n",
      "Epoch   5 Batch   10/17   train_loss = 5.252\n",
      "Epoch   5 Batch   15/17   train_loss = 5.004\n",
      "Epoch   6 Batch    3/17   train_loss = 5.132\n",
      "Epoch   6 Batch    8/17   train_loss = 5.116\n",
      "Epoch   6 Batch   13/17   train_loss = 5.122\n",
      "Epoch   7 Batch    1/17   train_loss = 5.029\n",
      "Epoch   7 Batch    6/17   train_loss = 5.007\n",
      "Epoch   7 Batch   11/17   train_loss = 5.170\n",
      "Epoch   7 Batch   16/17   train_loss = 5.018\n",
      "Epoch   8 Batch    4/17   train_loss = 5.010\n",
      "Epoch   8 Batch    9/17   train_loss = 4.959\n",
      "Epoch   8 Batch   14/17   train_loss = 4.976\n",
      "Epoch   9 Batch    2/17   train_loss = 4.900\n",
      "Epoch   9 Batch    7/17   train_loss = 4.999\n",
      "Epoch   9 Batch   12/17   train_loss = 4.912\n",
      "Epoch  10 Batch    0/17   train_loss = 4.807\n",
      "Epoch  10 Batch    5/17   train_loss = 4.813\n",
      "Epoch  10 Batch   10/17   train_loss = 4.994\n",
      "Epoch  10 Batch   15/17   train_loss = 4.774\n",
      "Epoch  11 Batch    3/17   train_loss = 4.894\n",
      "Epoch  11 Batch    8/17   train_loss = 4.893\n",
      "Epoch  11 Batch   13/17   train_loss = 4.909\n",
      "Epoch  12 Batch    1/17   train_loss = 4.811\n",
      "Epoch  12 Batch    6/17   train_loss = 4.764\n",
      "Epoch  12 Batch   11/17   train_loss = 4.921\n",
      "Epoch  12 Batch   16/17   train_loss = 4.803\n",
      "Epoch  13 Batch    4/17   train_loss = 4.783\n",
      "Epoch  13 Batch    9/17   train_loss = 4.754\n",
      "Epoch  13 Batch   14/17   train_loss = 4.787\n",
      "Epoch  14 Batch    2/17   train_loss = 4.686\n",
      "Epoch  14 Batch    7/17   train_loss = 4.801\n",
      "Epoch  14 Batch   12/17   train_loss = 4.721\n",
      "Epoch  15 Batch    0/17   train_loss = 4.621\n",
      "Epoch  15 Batch    5/17   train_loss = 4.651\n",
      "Epoch  15 Batch   10/17   train_loss = 4.835\n",
      "Epoch  15 Batch   15/17   train_loss = 4.604\n",
      "Epoch  16 Batch    3/17   train_loss = 4.737\n",
      "Epoch  16 Batch    8/17   train_loss = 4.768\n",
      "Epoch  16 Batch   13/17   train_loss = 4.770\n",
      "Epoch  17 Batch    1/17   train_loss = 4.682\n",
      "Epoch  17 Batch    6/17   train_loss = 4.658\n",
      "Epoch  17 Batch   11/17   train_loss = 4.808\n",
      "Epoch  17 Batch   16/17   train_loss = 4.684\n",
      "Epoch  18 Batch    4/17   train_loss = 4.666\n",
      "Epoch  18 Batch    9/17   train_loss = 4.634\n",
      "Epoch  18 Batch   14/17   train_loss = 4.671\n",
      "Epoch  19 Batch    2/17   train_loss = 4.566\n",
      "Epoch  19 Batch    7/17   train_loss = 4.665\n",
      "Epoch  19 Batch   12/17   train_loss = 4.602\n",
      "Epoch  20 Batch    0/17   train_loss = 4.497\n",
      "Epoch  20 Batch    5/17   train_loss = 4.505\n",
      "Epoch  20 Batch   10/17   train_loss = 4.678\n",
      "Epoch  20 Batch   15/17   train_loss = 4.465\n",
      "Epoch  21 Batch    3/17   train_loss = 4.599\n",
      "Epoch  21 Batch    8/17   train_loss = 4.607\n",
      "Epoch  21 Batch   13/17   train_loss = 4.612\n",
      "Epoch  22 Batch    1/17   train_loss = 4.511\n",
      "Epoch  22 Batch    6/17   train_loss = 4.476\n",
      "Epoch  22 Batch   11/17   train_loss = 4.614\n",
      "Epoch  22 Batch   16/17   train_loss = 4.530\n",
      "Epoch  23 Batch    4/17   train_loss = 4.506\n",
      "Epoch  23 Batch    9/17   train_loss = 4.459\n",
      "Epoch  23 Batch   14/17   train_loss = 4.501\n",
      "Epoch  24 Batch    2/17   train_loss = 4.390\n",
      "Epoch  24 Batch    7/17   train_loss = 4.498\n",
      "Epoch  24 Batch   12/17   train_loss = 4.402\n",
      "Epoch  25 Batch    0/17   train_loss = 4.290\n",
      "Epoch  25 Batch    5/17   train_loss = 4.348\n",
      "Epoch  25 Batch   10/17   train_loss = 4.484\n",
      "Epoch  25 Batch   15/17   train_loss = 4.281\n",
      "Epoch  26 Batch    3/17   train_loss = 4.414\n",
      "Epoch  26 Batch    8/17   train_loss = 4.419\n",
      "Epoch  26 Batch   13/17   train_loss = 4.412\n",
      "Epoch  27 Batch    1/17   train_loss = 4.312\n",
      "Epoch  27 Batch    6/17   train_loss = 4.289\n",
      "Epoch  27 Batch   11/17   train_loss = 4.439\n",
      "Epoch  27 Batch   16/17   train_loss = 4.282\n",
      "Epoch  28 Batch    4/17   train_loss = 4.336\n",
      "Epoch  28 Batch    9/17   train_loss = 4.244\n",
      "Epoch  28 Batch   14/17   train_loss = 4.262\n",
      "Epoch  29 Batch    2/17   train_loss = 4.185\n",
      "Epoch  29 Batch    7/17   train_loss = 4.266\n",
      "Epoch  29 Batch   12/17   train_loss = 4.169\n",
      "Epoch  30 Batch    0/17   train_loss = 4.025\n",
      "Epoch  30 Batch    5/17   train_loss = 4.096\n",
      "Epoch  30 Batch   10/17   train_loss = 4.240\n",
      "Epoch  30 Batch   15/17   train_loss = 4.020\n",
      "Epoch  31 Batch    3/17   train_loss = 4.165\n",
      "Epoch  31 Batch    8/17   train_loss = 4.153\n",
      "Epoch  31 Batch   13/17   train_loss = 4.125\n",
      "Epoch  32 Batch    1/17   train_loss = 4.043\n",
      "Epoch  32 Batch    6/17   train_loss = 4.053\n",
      "Epoch  32 Batch   11/17   train_loss = 4.132\n",
      "Epoch  32 Batch   16/17   train_loss = 4.008\n",
      "Epoch  33 Batch    4/17   train_loss = 4.082\n",
      "Epoch  33 Batch    9/17   train_loss = 4.028\n",
      "Epoch  33 Batch   14/17   train_loss = 4.034\n",
      "Epoch  34 Batch    2/17   train_loss = 3.962\n",
      "Epoch  34 Batch    7/17   train_loss = 4.038\n",
      "Epoch  34 Batch   12/17   train_loss = 3.956\n",
      "Epoch  35 Batch    0/17   train_loss = 3.770\n",
      "Epoch  35 Batch    5/17   train_loss = 3.882\n",
      "Epoch  35 Batch   10/17   train_loss = 3.986\n",
      "Epoch  35 Batch   15/17   train_loss = 3.817\n",
      "Epoch  36 Batch    3/17   train_loss = 3.949\n",
      "Epoch  36 Batch    8/17   train_loss = 3.914\n",
      "Epoch  36 Batch   13/17   train_loss = 3.816\n",
      "Epoch  37 Batch    1/17   train_loss = 3.804\n",
      "Epoch  37 Batch    6/17   train_loss = 3.800\n",
      "Epoch  37 Batch   11/17   train_loss = 3.835\n",
      "Epoch  37 Batch   16/17   train_loss = 3.710\n",
      "Epoch  38 Batch    4/17   train_loss = 3.816\n",
      "Epoch  38 Batch    9/17   train_loss = 3.728\n",
      "Epoch  38 Batch   14/17   train_loss = 3.725\n",
      "Epoch  39 Batch    2/17   train_loss = 3.658\n",
      "Epoch  39 Batch    7/17   train_loss = 3.713\n",
      "Epoch  39 Batch   12/17   train_loss = 3.602\n",
      "Epoch  40 Batch    0/17   train_loss = 3.462\n",
      "Epoch  40 Batch    5/17   train_loss = 3.583\n",
      "Epoch  40 Batch   10/17   train_loss = 3.684\n",
      "Epoch  40 Batch   15/17   train_loss = 3.477\n",
      "Epoch  41 Batch    3/17   train_loss = 3.648\n",
      "Epoch  41 Batch    8/17   train_loss = 3.646\n",
      "Epoch  41 Batch   13/17   train_loss = 3.503\n",
      "Epoch  42 Batch    1/17   train_loss = 3.514\n",
      "Epoch  42 Batch    6/17   train_loss = 3.536\n",
      "Epoch  42 Batch   11/17   train_loss = 3.543\n",
      "Epoch  42 Batch   16/17   train_loss = 3.437\n",
      "Epoch  43 Batch    4/17   train_loss = 3.551\n",
      "Epoch  43 Batch    9/17   train_loss = 3.464\n",
      "Epoch  43 Batch   14/17   train_loss = 3.432\n",
      "Epoch  44 Batch    2/17   train_loss = 3.387\n",
      "Epoch  44 Batch    7/17   train_loss = 3.459\n",
      "Epoch  44 Batch   12/17   train_loss = 3.357\n",
      "Epoch  45 Batch    0/17   train_loss = 3.204\n",
      "Epoch  45 Batch    5/17   train_loss = 3.326\n",
      "Epoch  45 Batch   10/17   train_loss = 3.456\n",
      "Epoch  45 Batch   15/17   train_loss = 3.253\n",
      "Epoch  46 Batch    3/17   train_loss = 3.411\n",
      "Epoch  46 Batch    8/17   train_loss = 3.419\n",
      "Epoch  46 Batch   13/17   train_loss = 3.288\n",
      "Epoch  47 Batch    1/17   train_loss = 3.286\n",
      "Epoch  47 Batch    6/17   train_loss = 3.346\n",
      "Epoch  47 Batch   11/17   train_loss = 3.344\n",
      "Epoch  47 Batch   16/17   train_loss = 3.249\n",
      "Epoch  48 Batch    4/17   train_loss = 3.352\n",
      "Epoch  48 Batch    9/17   train_loss = 3.304\n",
      "Epoch  48 Batch   14/17   train_loss = 3.273\n",
      "Epoch  49 Batch    2/17   train_loss = 3.187\n",
      "Epoch  49 Batch    7/17   train_loss = 3.302\n",
      "Epoch  49 Batch   12/17   train_loss = 3.173\n",
      "Epoch  50 Batch    0/17   train_loss = 3.053\n",
      "Epoch  50 Batch    5/17   train_loss = 3.155\n",
      "Epoch  50 Batch   10/17   train_loss = 3.290\n",
      "Epoch  50 Batch   15/17   train_loss = 3.121\n",
      "Epoch  51 Batch    3/17   train_loss = 3.235\n",
      "Epoch  51 Batch    8/17   train_loss = 3.246\n",
      "Epoch  51 Batch   13/17   train_loss = 3.127\n",
      "Epoch  52 Batch    1/17   train_loss = 3.156\n",
      "Epoch  52 Batch    6/17   train_loss = 3.164\n",
      "Epoch  52 Batch   11/17   train_loss = 3.190\n",
      "Epoch  52 Batch   16/17   train_loss = 3.067\n",
      "Epoch  53 Batch    4/17   train_loss = 3.177\n",
      "Epoch  53 Batch    9/17   train_loss = 3.107\n"
     ]
    },
    {
     "name": "stdout",
     "output_type": "stream",
     "text": [
      "Epoch  53 Batch   14/17   train_loss = 3.081\n",
      "Epoch  54 Batch    2/17   train_loss = 3.003\n",
      "Epoch  54 Batch    7/17   train_loss = 3.085\n",
      "Epoch  54 Batch   12/17   train_loss = 2.954\n",
      "Epoch  55 Batch    0/17   train_loss = 2.828\n",
      "Epoch  55 Batch    5/17   train_loss = 2.968\n",
      "Epoch  55 Batch   10/17   train_loss = 3.072\n",
      "Epoch  55 Batch   15/17   train_loss = 2.896\n",
      "Epoch  56 Batch    3/17   train_loss = 3.025\n",
      "Epoch  56 Batch    8/17   train_loss = 3.037\n",
      "Epoch  56 Batch   13/17   train_loss = 2.916\n",
      "Epoch  57 Batch    1/17   train_loss = 2.927\n",
      "Epoch  57 Batch    6/17   train_loss = 2.943\n",
      "Epoch  57 Batch   11/17   train_loss = 2.993\n",
      "Epoch  57 Batch   16/17   train_loss = 2.869\n",
      "Epoch  58 Batch    4/17   train_loss = 2.987\n",
      "Epoch  58 Batch    9/17   train_loss = 2.900\n",
      "Epoch  58 Batch   14/17   train_loss = 2.909\n",
      "Epoch  59 Batch    2/17   train_loss = 2.808\n",
      "Epoch  59 Batch    7/17   train_loss = 2.912\n",
      "Epoch  59 Batch   12/17   train_loss = 2.774\n",
      "Epoch  60 Batch    0/17   train_loss = 2.694\n",
      "Epoch  60 Batch    5/17   train_loss = 2.827\n",
      "Epoch  60 Batch   10/17   train_loss = 2.933\n",
      "Epoch  60 Batch   15/17   train_loss = 2.776\n",
      "Epoch  61 Batch    3/17   train_loss = 2.913\n",
      "Epoch  61 Batch    8/17   train_loss = 2.933\n",
      "Epoch  61 Batch   13/17   train_loss = 2.822\n",
      "Epoch  62 Batch    1/17   train_loss = 2.837\n",
      "Epoch  62 Batch    6/17   train_loss = 2.869\n",
      "Epoch  62 Batch   11/17   train_loss = 2.936\n",
      "Epoch  62 Batch   16/17   train_loss = 2.797\n",
      "Epoch  63 Batch    4/17   train_loss = 2.928\n",
      "Epoch  63 Batch    9/17   train_loss = 2.842\n",
      "Epoch  63 Batch   14/17   train_loss = 2.855\n",
      "Epoch  64 Batch    2/17   train_loss = 2.763\n",
      "Epoch  64 Batch    7/17   train_loss = 2.854\n",
      "Epoch  64 Batch   12/17   train_loss = 2.758\n",
      "Epoch  65 Batch    0/17   train_loss = 2.644\n",
      "Epoch  65 Batch    5/17   train_loss = 2.794\n",
      "Epoch  65 Batch   10/17   train_loss = 2.885\n",
      "Epoch  65 Batch   15/17   train_loss = 2.750\n",
      "Epoch  66 Batch    3/17   train_loss = 2.857\n",
      "Epoch  66 Batch    8/17   train_loss = 2.896\n",
      "Epoch  66 Batch   13/17   train_loss = 2.769\n",
      "Epoch  67 Batch    1/17   train_loss = 2.784\n",
      "Epoch  67 Batch    6/17   train_loss = 2.802\n",
      "Epoch  67 Batch   11/17   train_loss = 2.882\n",
      "Epoch  67 Batch   16/17   train_loss = 2.743\n",
      "Epoch  68 Batch    4/17   train_loss = 2.873\n",
      "Epoch  68 Batch    9/17   train_loss = 2.778\n",
      "Epoch  68 Batch   14/17   train_loss = 2.790\n",
      "Epoch  69 Batch    2/17   train_loss = 2.691\n",
      "Epoch  69 Batch    7/17   train_loss = 2.791\n",
      "Epoch  69 Batch   12/17   train_loss = 2.682\n",
      "Epoch  70 Batch    0/17   train_loss = 2.581\n",
      "Epoch  70 Batch    5/17   train_loss = 2.719\n",
      "Epoch  70 Batch   10/17   train_loss = 2.818\n",
      "Epoch  70 Batch   15/17   train_loss = 2.667\n",
      "Epoch  71 Batch    3/17   train_loss = 2.791\n",
      "Epoch  71 Batch    8/17   train_loss = 2.814\n",
      "Epoch  71 Batch   13/17   train_loss = 2.709\n",
      "Epoch  72 Batch    1/17   train_loss = 2.707\n",
      "Epoch  72 Batch    6/17   train_loss = 2.735\n",
      "Epoch  72 Batch   11/17   train_loss = 2.815\n",
      "Epoch  72 Batch   16/17   train_loss = 2.682\n",
      "Epoch  73 Batch    4/17   train_loss = 2.811\n",
      "Epoch  73 Batch    9/17   train_loss = 2.710\n",
      "Epoch  73 Batch   14/17   train_loss = 2.740\n",
      "Epoch  74 Batch    2/17   train_loss = 2.633\n",
      "Epoch  74 Batch    7/17   train_loss = 2.743\n",
      "Epoch  74 Batch   12/17   train_loss = 2.635\n",
      "Epoch  75 Batch    0/17   train_loss = 2.541\n",
      "Epoch  75 Batch    5/17   train_loss = 2.687\n",
      "Epoch  75 Batch   10/17   train_loss = 2.785\n",
      "Epoch  75 Batch   15/17   train_loss = 2.641\n",
      "Epoch  76 Batch    3/17   train_loss = 2.768\n",
      "Epoch  76 Batch    8/17   train_loss = 2.792\n",
      "Epoch  76 Batch   13/17   train_loss = 2.691\n",
      "Epoch  77 Batch    1/17   train_loss = 2.689\n",
      "Epoch  77 Batch    6/17   train_loss = 2.716\n",
      "Epoch  77 Batch   11/17   train_loss = 2.803\n",
      "Epoch  77 Batch   16/17   train_loss = 2.669\n",
      "Epoch  78 Batch    4/17   train_loss = 2.799\n",
      "Epoch  78 Batch    9/17   train_loss = 2.695\n",
      "Epoch  78 Batch   14/17   train_loss = 2.729\n",
      "Epoch  79 Batch    2/17   train_loss = 2.623\n",
      "Epoch  79 Batch    7/17   train_loss = 2.733\n",
      "Epoch  79 Batch   12/17   train_loss = 2.625\n",
      "Epoch  80 Batch    0/17   train_loss = 2.534\n",
      "Epoch  80 Batch    5/17   train_loss = 2.678\n",
      "Epoch  80 Batch   10/17   train_loss = 2.778\n",
      "Epoch  80 Batch   15/17   train_loss = 2.635\n",
      "Epoch  81 Batch    3/17   train_loss = 2.760\n",
      "Epoch  81 Batch    8/17   train_loss = 2.785\n",
      "Epoch  81 Batch   13/17   train_loss = 2.686\n",
      "Epoch  82 Batch    1/17   train_loss = 2.682\n",
      "Epoch  82 Batch    6/17   train_loss = 2.708\n",
      "Epoch  82 Batch   11/17   train_loss = 2.797\n",
      "Epoch  82 Batch   16/17   train_loss = 2.664\n",
      "Epoch  83 Batch    4/17   train_loss = 2.792\n",
      "Epoch  83 Batch    9/17   train_loss = 2.689\n",
      "Epoch  83 Batch   14/17   train_loss = 2.724\n",
      "Epoch  84 Batch    2/17   train_loss = 2.616\n",
      "Epoch  84 Batch    7/17   train_loss = 2.727\n",
      "Epoch  84 Batch   12/17   train_loss = 2.620\n",
      "Epoch  85 Batch    0/17   train_loss = 2.529\n",
      "Epoch  85 Batch    5/17   train_loss = 2.675\n",
      "Epoch  85 Batch   10/17   train_loss = 2.773\n",
      "Epoch  85 Batch   15/17   train_loss = 2.631\n",
      "Epoch  86 Batch    3/17   train_loss = 2.756\n",
      "Epoch  86 Batch    8/17   train_loss = 2.780\n",
      "Epoch  86 Batch   13/17   train_loss = 2.681\n",
      "Epoch  87 Batch    1/17   train_loss = 2.678\n",
      "Epoch  87 Batch    6/17   train_loss = 2.703\n",
      "Epoch  87 Batch   11/17   train_loss = 2.795\n",
      "Epoch  87 Batch   16/17   train_loss = 2.660\n",
      "Epoch  88 Batch    4/17   train_loss = 2.790\n",
      "Epoch  88 Batch    9/17   train_loss = 2.684\n",
      "Epoch  88 Batch   14/17   train_loss = 2.721\n",
      "Epoch  89 Batch    2/17   train_loss = 2.614\n",
      "Epoch  89 Batch    7/17   train_loss = 2.724\n",
      "Epoch  89 Batch   12/17   train_loss = 2.616\n",
      "Epoch  90 Batch    0/17   train_loss = 2.527\n",
      "Epoch  90 Batch    5/17   train_loss = 2.671\n",
      "Epoch  90 Batch   10/17   train_loss = 2.770\n",
      "Epoch  90 Batch   15/17   train_loss = 2.629\n",
      "Epoch  91 Batch    3/17   train_loss = 2.753\n",
      "Epoch  91 Batch    8/17   train_loss = 2.778\n",
      "Epoch  91 Batch   13/17   train_loss = 2.679\n",
      "Epoch  92 Batch    1/17   train_loss = 2.675\n",
      "Epoch  92 Batch    6/17   train_loss = 2.700\n",
      "Epoch  92 Batch   11/17   train_loss = 2.792\n",
      "Epoch  92 Batch   16/17   train_loss = 2.658\n",
      "Epoch  93 Batch    4/17   train_loss = 2.786\n",
      "Epoch  93 Batch    9/17   train_loss = 2.682\n",
      "Epoch  93 Batch   14/17   train_loss = 2.719\n",
      "Epoch  94 Batch    2/17   train_loss = 2.611\n",
      "Epoch  94 Batch    7/17   train_loss = 2.722\n",
      "Epoch  94 Batch   12/17   train_loss = 2.614\n",
      "Epoch  95 Batch    0/17   train_loss = 2.525\n",
      "Epoch  95 Batch    5/17   train_loss = 2.670\n",
      "Epoch  95 Batch   10/17   train_loss = 2.768\n",
      "Epoch  95 Batch   15/17   train_loss = 2.626\n",
      "Epoch  96 Batch    3/17   train_loss = 2.751\n",
      "Epoch  96 Batch    8/17   train_loss = 2.775\n",
      "Epoch  96 Batch   13/17   train_loss = 2.677\n",
      "Epoch  97 Batch    1/17   train_loss = 2.673\n",
      "Epoch  97 Batch    6/17   train_loss = 2.698\n",
      "Epoch  97 Batch   11/17   train_loss = 2.791\n",
      "Epoch  97 Batch   16/17   train_loss = 2.655\n",
      "Epoch  98 Batch    4/17   train_loss = 2.786\n",
      "Epoch  98 Batch    9/17   train_loss = 2.680\n",
      "Epoch  98 Batch   14/17   train_loss = 2.717\n",
      "Epoch  99 Batch    2/17   train_loss = 2.610\n",
      "Epoch  99 Batch    7/17   train_loss = 2.720\n",
      "Epoch  99 Batch   12/17   train_loss = 2.612\n",
      "Model Trained and Saved\n"
     ]
    }
   ],
   "source": [
    "\"\"\"\n",
    "DON'T MODIFY ANYTHING IN THIS CELL\n",
    "\"\"\"\n",
    "batches = get_batches(int_text, batch_size, seq_length)\n",
    "\n",
    "with tf.Session(graph=train_graph) as sess:\n",
    "    sess.run(tf.global_variables_initializer())\n",
    "\n",
    "    for epoch_i in range(num_epochs):\n",
    "        state = sess.run(initial_state, {input_text: batches[0][0]})\n",
    "\n",
    "        for batch_i, (x, y) in enumerate(batches):\n",
    "            feed = {\n",
    "                input_text: x,\n",
    "                targets: y,\n",
    "                initial_state: state,\n",
    "                lr: learning_rate}\n",
    "            train_loss, state, _ = sess.run([cost, final_state, train_op], feed)\n",
    "\n",
    "            # Show every <show_every_n_batches> batches\n",
    "            if (epoch_i * len(batches) + batch_i) % show_every_n_batches == 0:\n",
    "                print('Epoch {:>3} Batch {:>4}/{}   train_loss = {:.3f}'.format(\n",
    "                    epoch_i,\n",
    "                    batch_i,\n",
    "                    len(batches),\n",
    "                    train_loss))\n",
    "\n",
    "    # Save Model\n",
    "    saver = tf.train.Saver()\n",
    "    saver.save(sess, save_dir)\n",
    "    print('Model Trained and Saved')"
   ]
  },
  {
   "cell_type": "markdown",
   "metadata": {},
   "source": [
    "## Save Parameters\n",
    "Save `seq_length` and `save_dir` for generating a new TV script."
   ]
  },
  {
   "cell_type": "code",
   "execution_count": 20,
   "metadata": {
    "collapsed": true
   },
   "outputs": [],
   "source": [
    "\"\"\"\n",
    "DON'T MODIFY ANYTHING IN THIS CELL\n",
    "\"\"\"\n",
    "# Save parameters for checkpoint\n",
    "helper.save_params((seq_length, save_dir))"
   ]
  },
  {
   "cell_type": "markdown",
   "metadata": {},
   "source": [
    "# Checkpoint"
   ]
  },
  {
   "cell_type": "code",
   "execution_count": 21,
   "metadata": {
    "collapsed": true
   },
   "outputs": [],
   "source": [
    "\"\"\"\n",
    "DON'T MODIFY ANYTHING IN THIS CELL\n",
    "\"\"\"\n",
    "import tensorflow as tf\n",
    "import numpy as np\n",
    "import helper\n",
    "import problem_unittests as tests\n",
    "\n",
    "_, vocab_to_int, int_to_vocab, token_dict = helper.load_preprocess()\n",
    "seq_length, load_dir = helper.load_params()"
   ]
  },
  {
   "cell_type": "markdown",
   "metadata": {},
   "source": [
    "## Implement Generate Functions\n",
    "### Get Tensors\n",
    "Get tensors from `loaded_graph` using the function [`get_tensor_by_name()`](https://www.tensorflow.org/api_docs/python/tf/Graph#get_tensor_by_name).  Get the tensors using the following names:\n",
    "- \"input:0\"\n",
    "- \"initial_state:0\"\n",
    "- \"final_state:0\"\n",
    "- \"probs:0\"\n",
    "\n",
    "Return the tensors in the following tuple `(InputTensor, InitialStateTensor, FinalStateTensor, ProbsTensor)` "
   ]
  },
  {
   "cell_type": "code",
   "execution_count": 26,
   "metadata": {},
   "outputs": [
    {
     "name": "stdout",
     "output_type": "stream",
     "text": [
      "Tests Passed\n"
     ]
    }
   ],
   "source": [
    "def get_tensors(loaded_graph):\n",
    "    \"\"\"\n",
    "    Get input, initial state, final state, and probabilities tensor from <loaded_graph>\n",
    "    :param loaded_graph: TensorFlow graph loaded from file\n",
    "    :return: Tuple (InputTensor, InitialStateTensor, FinalStateTensor, ProbsTensor)\n",
    "    \"\"\"\n",
    "    # TODO: Implement Function\n",
    "    InputTensor = loaded_graph.get_tensor_by_name('input:0')\n",
    "    InitialStateTensor = loaded_graph.get_tensor_by_name('initial_state:0')\n",
    "    FinalStateTensor = loaded_graph.get_tensor_by_name('final_state:0')\n",
    "    ProbsTensor = loaded_graph.get_tensor_by_name('probs:0')\n",
    "    return InputTensor, InitialStateTensor, FinalStateTensor, ProbsTensor\n",
    "\n",
    "\n",
    "\"\"\"\n",
    "DON'T MODIFY ANYTHING IN THIS CELL THAT IS BELOW THIS LINE\n",
    "\"\"\"\n",
    "tests.test_get_tensors(get_tensors)"
   ]
  },
  {
   "cell_type": "markdown",
   "metadata": {},
   "source": [
    "### Choose Word\n",
    "Implement the `pick_word()` function to select the next word using `probabilities`."
   ]
  },
  {
   "cell_type": "code",
   "execution_count": 27,
   "metadata": {},
   "outputs": [
    {
     "name": "stdout",
     "output_type": "stream",
     "text": [
      "Tests Passed\n"
     ]
    }
   ],
   "source": [
    "def pick_word(probabilities, int_to_vocab):\n",
    "    \"\"\"\n",
    "    Pick the next word in the generated text\n",
    "    :param probabilities: Probabilites of the next word\n",
    "    :param int_to_vocab: Dictionary of word ids as the keys and words as the values\n",
    "    :return: String of the predicted word\n",
    "    \"\"\"\n",
    "    # TODO: Implement Function\n",
    "    select_next_word = np.argmax(probabilities)\n",
    "    return int_to_vocab[select_next_word]\n",
    "\n",
    "\n",
    "\"\"\"\n",
    "DON'T MODIFY ANYTHING IN THIS CELL THAT IS BELOW THIS LINE\n",
    "\"\"\"\n",
    "tests.test_pick_word(pick_word)"
   ]
  },
  {
   "cell_type": "markdown",
   "metadata": {},
   "source": [
    "## Generate TV Script\n",
    "This will generate the TV script for you.  Set `gen_length` to the length of TV script you want to generate."
   ]
  },
  {
   "cell_type": "code",
   "execution_count": 28,
   "metadata": {},
   "outputs": [
    {
     "name": "stdout",
     "output_type": "stream",
     "text": [
      "moe_szyslak:(into) you did, the guy, they got is me!\n",
      "moe_szyslak: well, uh, i got a guy, for me to get out of this.\n",
      "homer_simpson: oh, if you say you just make him the last one from one, but and i can't wait to go, homer.\n",
      "homer_simpson:(to moe) can i am.\n",
      "carl_carlson:(singing) moe's, i...\n",
      "homer_simpson: and my family...\n",
      "moe_szyslak:(looking at her) oh, yeah... i want to go for all this place for a family.\n",
      "homer_simpson: you know, this is gonna be her.\n",
      "homer_simpson:(into\") not this or put my money.\n",
      "moe_szyslak:(singing) and it! / my big... and i have to be\" back.\n",
      "carl_carlson: you know, maybe and i need money it.\n",
      "lenny_leonard:(to be so much, but then, homer, and i need a little more would.\n",
      "homer_simpson:(looking at) this\n"
     ]
    }
   ],
   "source": [
    "gen_length = 200\n",
    "# homer_simpson, moe_szyslak, or Barney_Gumble\n",
    "prime_word = 'moe_szyslak'\n",
    "\n",
    "\"\"\"\n",
    "DON'T MODIFY ANYTHING IN THIS CELL THAT IS BELOW THIS LINE\n",
    "\"\"\"\n",
    "loaded_graph = tf.Graph()\n",
    "with tf.Session(graph=loaded_graph) as sess:\n",
    "    # Load saved model\n",
    "    loader = tf.train.import_meta_graph(load_dir + '.meta')\n",
    "    loader.restore(sess, load_dir)\n",
    "\n",
    "    # Get Tensors from loaded model\n",
    "    input_text, initial_state, final_state, probs = get_tensors(loaded_graph)\n",
    "\n",
    "    # Sentences generation setup\n",
    "    gen_sentences = [prime_word + ':']\n",
    "    prev_state = sess.run(initial_state, {input_text: np.array([[1]])})\n",
    "\n",
    "    # Generate sentences\n",
    "    for n in range(gen_length):\n",
    "        # Dynamic Input\n",
    "        dyn_input = [[vocab_to_int[word] for word in gen_sentences[-seq_length:]]]\n",
    "        dyn_seq_length = len(dyn_input[0])\n",
    "\n",
    "        # Get Prediction\n",
    "        probabilities, prev_state = sess.run(\n",
    "            [probs, final_state],\n",
    "            {input_text: dyn_input, initial_state: prev_state})\n",
    "        \n",
    "        pred_word = pick_word(probabilities[dyn_seq_length-1], int_to_vocab)\n",
    "\n",
    "        gen_sentences.append(pred_word)\n",
    "    \n",
    "    # Remove tokens\n",
    "    tv_script = ' '.join(gen_sentences)\n",
    "    for key, token in token_dict.items():\n",
    "        ending = ' ' if key in ['\\n', '(', '\"'] else ''\n",
    "        tv_script = tv_script.replace(' ' + token.lower(), key)\n",
    "    tv_script = tv_script.replace('\\n ', '\\n')\n",
    "    tv_script = tv_script.replace('( ', '(')\n",
    "        \n",
    "    print(tv_script)"
   ]
  },
  {
   "cell_type": "markdown",
   "metadata": {},
   "source": [
    "# The TV Script is Nonsensical\n",
    "It's ok if the TV script doesn't make any sense.  We trained on less than a megabyte of text.  In order to get good results, you'll have to use a smaller vocabulary or get more data.  Luckly there's more data!  As we mentioned in the begging of this project, this is a subset of [another dataset](https://www.kaggle.com/wcukierski/the-simpsons-by-the-data).  We didn't have you train on all the data, because that would take too long.  However, you are free to train your neural network on all the data.  After you complete the project, of course.\n",
    "# Submitting This Project\n",
    "When submitting this project, make sure to run all the cells before saving the notebook. Save the notebook file as \"dlnd_tv_script_generation.ipynb\" and save it as a HTML file under \"File\" -> \"Download as\". Include the \"helper.py\" and \"problem_unittests.py\" files in your submission."
   ]
  }
 ],
 "metadata": {
  "kernelspec": {
   "display_name": "Python 3",
   "language": "python",
   "name": "python3"
  },
  "language_info": {
   "codemirror_mode": {
    "name": "ipython",
    "version": 3
   },
   "file_extension": ".py",
   "mimetype": "text/x-python",
   "name": "python",
   "nbconvert_exporter": "python",
   "pygments_lexer": "ipython3",
   "version": "3.5.2"
  },
  "widgets": {
   "state": {},
   "version": "1.1.2"
  }
 },
 "nbformat": 4,
 "nbformat_minor": 1
}
