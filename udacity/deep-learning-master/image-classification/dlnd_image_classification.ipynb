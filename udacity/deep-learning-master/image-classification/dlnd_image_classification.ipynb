{
 "cells": [
  {
   "cell_type": "markdown",
   "metadata": {
    "collapsed": true
   },
   "source": [
    "# Image Classification\n",
    "In this project, you'll classify images from the [CIFAR-10 dataset](https://www.cs.toronto.edu/~kriz/cifar.html).  The dataset consists of airplanes, dogs, cats, and other objects. You'll preprocess the images, then train a convolutional neural network on all the samples. The images need to be normalized and the labels need to be one-hot encoded.  You'll get to apply what you learned and build a convolutional, max pooling, dropout, and fully connected layers.  At the end, you'll get to see your neural network's predictions on the sample images.\n",
    "## Get the Data\n",
    "Run the following cell to download the [CIFAR-10 dataset for python](https://www.cs.toronto.edu/~kriz/cifar-10-python.tar.gz)."
   ]
  },
  {
   "cell_type": "code",
   "execution_count": 1,
   "metadata": {},
   "outputs": [
    {
     "name": "stdout",
     "output_type": "stream",
     "text": [
      "All files found!\n"
     ]
    }
   ],
   "source": [
    "\"\"\"\n",
    "DON'T MODIFY ANYTHING IN THIS CELL THAT IS BELOW THIS LINE\n",
    "\"\"\"\n",
    "from urllib.request import urlretrieve\n",
    "from os.path import isfile, isdir\n",
    "from tqdm import tqdm\n",
    "import problem_unittests as tests\n",
    "import tarfile\n",
    "\n",
    "cifar10_dataset_folder_path = 'cifar-10-batches-py'\n",
    "\n",
    "# Use Floyd's cifar-10 dataset if present\n",
    "floyd_cifar10_location = '/input/cifar-10/python.tar.gz'\n",
    "if isfile(floyd_cifar10_location):\n",
    "    tar_gz_path = floyd_cifar10_location\n",
    "else:\n",
    "    tar_gz_path = 'cifar-10-python.tar.gz'\n",
    "\n",
    "class DLProgress(tqdm):\n",
    "    last_block = 0\n",
    "\n",
    "    def hook(self, block_num=1, block_size=1, total_size=None):\n",
    "        self.total = total_size\n",
    "        self.update((block_num - self.last_block) * block_size)\n",
    "        self.last_block = block_num\n",
    "\n",
    "if not isfile(tar_gz_path):\n",
    "    with DLProgress(unit='B', unit_scale=True, miniters=1, desc='CIFAR-10 Dataset') as pbar:\n",
    "        urlretrieve(\n",
    "            'https://www.cs.toronto.edu/~kriz/cifar-10-python.tar.gz',\n",
    "            tar_gz_path,\n",
    "            pbar.hook)\n",
    "\n",
    "if not isdir(cifar10_dataset_folder_path):\n",
    "    with tarfile.open(tar_gz_path) as tar:\n",
    "        tar.extractall()\n",
    "        tar.close()\n",
    "\n",
    "\n",
    "tests.test_folder_path(cifar10_dataset_folder_path)"
   ]
  },
  {
   "cell_type": "markdown",
   "metadata": {},
   "source": [
    "## Explore the Data\n",
    "The dataset is broken into batches to prevent your machine from running out of memory.  The CIFAR-10 dataset consists of 5 batches, named `data_batch_1`, `data_batch_2`, etc.. Each batch contains the labels and images that are one of the following:\n",
    "* airplane\n",
    "* automobile\n",
    "* bird\n",
    "* cat\n",
    "* deer\n",
    "* dog\n",
    "* frog\n",
    "* horse\n",
    "* ship\n",
    "* truck\n",
    "\n",
    "Understanding a dataset is part of making predictions on the data.  Play around with the code cell below by changing the `batch_id` and `sample_id`. The `batch_id` is the id for a batch (1-5). The `sample_id` is the id for a image and label pair in the batch.\n",
    "\n",
    "Ask yourself \"What are all possible labels?\", \"What is the range of values for the image data?\", \"Are the labels in order or random?\".  Answers to questions like these will help you preprocess the data and end up with better predictions."
   ]
  },
  {
   "cell_type": "code",
   "execution_count": 1,
   "metadata": {},
   "outputs": [
    {
     "ename": "ImportError",
     "evalue": "No module named 'helper'",
     "traceback": [
      "\u001b[1;31m---------------------------------------------------------------------------\u001b[0m",
      "\u001b[1;31mImportError\u001b[0m                               Traceback (most recent call last)",
      "\u001b[1;32m<ipython-input-1-e51b22fafd96>\u001b[0m in \u001b[0;36m<module>\u001b[1;34m()\u001b[0m\n\u001b[0;32m      2\u001b[0m \u001b[0mget_ipython\u001b[0m\u001b[1;33m(\u001b[0m\u001b[1;33m)\u001b[0m\u001b[1;33m.\u001b[0m\u001b[0mmagic\u001b[0m\u001b[1;33m(\u001b[0m\u001b[1;34m\"config InlineBackend.figure_format = 'retina'\"\u001b[0m\u001b[1;33m)\u001b[0m\u001b[1;33m\u001b[0m\u001b[0m\n\u001b[0;32m      3\u001b[0m \u001b[1;33m\u001b[0m\u001b[0m\n\u001b[1;32m----> 4\u001b[1;33m \u001b[1;32mimport\u001b[0m \u001b[0mhelper\u001b[0m\u001b[1;33m\u001b[0m\u001b[0m\n\u001b[0m\u001b[0;32m      5\u001b[0m \u001b[1;32mimport\u001b[0m \u001b[0mnumpy\u001b[0m \u001b[1;32mas\u001b[0m \u001b[0mnp\u001b[0m\u001b[1;33m\u001b[0m\u001b[0m\n\u001b[0;32m      6\u001b[0m \u001b[1;33m\u001b[0m\u001b[0m\n",
      "\u001b[1;31mImportError\u001b[0m: No module named 'helper'"
     ],
     "output_type": "error"
    }
   ],
   "source": [
    "%matplotlib inline\n",
    "%config InlineBackend.figure_format = 'retina'\n",
    "\n",
    "import helper\n",
    "import numpy as np\n",
    "\n",
    "# Explore the dataset\n",
    "batch_id = 1\n",
    "sample_id = 5\n",
    "helper.display_stats(cifar10_dataset_folder_path, batch_id, sample_id)"
   ]
  },
  {
   "cell_type": "markdown",
   "metadata": {},
   "source": [
    "## Implement Preprocess Functions\n",
    "### Normalize\n",
    "In the cell below, implement the `normalize` function to take in image data, `x`, and return it as a normalized Numpy array. The values should be in the range of 0 to 1, inclusive.  The return object should be the same shape as `x`."
   ]
  },
  {
   "cell_type": "code",
   "execution_count": 3,
   "metadata": {},
   "outputs": [
    {
     "name": "stdout",
     "output_type": "stream",
     "text": [
      "Tests Passed\n"
     ]
    }
   ],
   "source": [
    "def normalize(x):\n",
    "    \"\"\"\n",
    "    Normalize a list of sample image data in the range of 0 to 1\n",
    "    : x: List of image data.  The image shape is (32, 32, 3)\n",
    "    : return: Numpy array of normalize data\n",
    "    \"\"\"\n",
    "    # TODO: Implement Function\n",
    "    return x/255\n",
    "\n",
    "\n",
    "\"\"\"\n",
    "DON'T MODIFY ANYTHING IN THIS CELL THAT IS BELOW THIS LINE\n",
    "\"\"\"\n",
    "tests.test_normalize(normalize)"
   ]
  },
  {
   "cell_type": "markdown",
   "metadata": {},
   "source": [
    "### One-hot encode\n",
    "Just like the previous code cell, you'll be implementing a function for preprocessing.  This time, you'll implement the `one_hot_encode` function. The input, `x`, are a list of labels.  Implement the function to return the list of labels as One-Hot encoded Numpy array.  The possible values for labels are 0 to 9. The one-hot encoding function should return the same encoding for each value between each call to `one_hot_encode`.  Make sure to save the map of encodings outside the function.\n",
    "\n",
    "Hint: Don't reinvent the wheel."
   ]
  },
  {
   "cell_type": "code",
   "execution_count": 5,
   "metadata": {},
   "outputs": [
    {
     "name": "stdout",
     "output_type": "stream",
     "text": [
      "Tests Passed\n"
     ]
    }
   ],
   "source": [
    "from sklearn.preprocessing import OneHotEncoder\n",
    "\n",
    "def one_hot_encode(x):\n",
    "    \"\"\"\n",
    "    One hot encode a list of sample labels. Return a one-hot encoded vector for each label.\n",
    "    : x: List of sample Labels\n",
    "    : return: Numpy array of one-hot encoded labels\n",
    "    \"\"\"\n",
    "    # TODO: Implement Function\n",
    "    n = len(x)    \n",
    "    b = np.zeros((n, max(x)+1))\n",
    "    b[np.arange(n), x] = 1\n",
    "    return b\n",
    "\n",
    "\n",
    "\"\"\"\n",
    "DON'T MODIFY ANYTHING IN THIS CELL THAT IS BELOW THIS LINE\n",
    "\"\"\"\n",
    "tests.test_one_hot_encode(one_hot_encode)"
   ]
  },
  {
   "cell_type": "markdown",
   "metadata": {},
   "source": [
    "### Randomize Data\n",
    "As you saw from exploring the data above, the order of the samples are randomized.  It doesn't hurt to randomize it again, but you don't need to for this dataset."
   ]
  },
  {
   "cell_type": "markdown",
   "metadata": {},
   "source": [
    "## Preprocess all the data and save it\n",
    "Running the code cell below will preprocess all the CIFAR-10 data and save it to file. The code below also uses 10% of the training data for validation."
   ]
  },
  {
   "cell_type": "code",
   "execution_count": 6,
   "metadata": {
    "collapsed": true
   },
   "outputs": [],
   "source": [
    "\"\"\"\n",
    "DON'T MODIFY ANYTHING IN THIS CELL\n",
    "\"\"\"\n",
    "# Preprocess Training, Validation, and Testing Data\n",
    "helper.preprocess_and_save_data(cifar10_dataset_folder_path, normalize, one_hot_encode)"
   ]
  },
  {
   "cell_type": "markdown",
   "metadata": {},
   "source": [
    "# Check Point\n",
    "This is your first checkpoint.  If you ever decide to come back to this notebook or have to restart the notebook, you can start from here.  The preprocessed data has been saved to disk."
   ]
  },
  {
   "cell_type": "code",
   "execution_count": 1,
   "metadata": {
    "collapsed": true
   },
   "outputs": [],
   "source": [
    "\"\"\"\n",
    "DON'T MODIFY ANYTHING IN THIS CELL\n",
    "\"\"\"\n",
    "import pickle\n",
    "import problem_unittests as tests\n",
    "import helper\n",
    "\n",
    "# Load the Preprocessed Validation data\n",
    "valid_features, valid_labels = pickle.load(open('preprocess_validation.p', mode='rb'))"
   ]
  },
  {
   "cell_type": "markdown",
   "metadata": {},
   "source": [
    "## Build the network\n",
    "For the neural network, you'll build each layer into a function.  Most of the code you've seen has been outside of functions. To test your code more thoroughly, we require that you put each layer in a function.  This allows us to give you better feedback and test for simple mistakes using our unittests before you submit your project.\n",
    "\n",
    ">**Note:** If you're finding it hard to dedicate enough time for this course each week, we've provided a small shortcut to this part of the project. In the next couple of problems, you'll have the option to use classes from the [TensorFlow Layers](https://www.tensorflow.org/api_docs/python/tf/layers) or [TensorFlow Layers (contrib)](https://www.tensorflow.org/api_guides/python/contrib.layers) packages to build each layer, except the layers you build in the \"Convolutional and Max Pooling Layer\" section.  TF Layers is similar to Keras's and TFLearn's abstraction to layers, so it's easy to pickup.\n",
    "\n",
    ">However, if you would like to get the most out of this course, try to solve all the problems _without_ using anything from the TF Layers packages. You **can** still use classes from other packages that happen to have the same name as ones you find in TF Layers! For example, instead of using the TF Layers version of the `conv2d` class, [tf.layers.conv2d](https://www.tensorflow.org/api_docs/python/tf/layers/conv2d), you would want to use the TF Neural Network version of `conv2d`, [tf.nn.conv2d](https://www.tensorflow.org/api_docs/python/tf/nn/conv2d). \n",
    "\n",
    "Let's begin!\n",
    "\n",
    "### Input\n",
    "The neural network needs to read the image data, one-hot encoded labels, and dropout keep probability. Implement the following functions\n",
    "* Implement `neural_net_image_input`\n",
    " * Return a [TF Placeholder](https://www.tensorflow.org/api_docs/python/tf/placeholder)\n",
    " * Set the shape using `image_shape` with batch size set to `None`.\n",
    " * Name the TensorFlow placeholder \"x\" using the TensorFlow `name` parameter in the [TF Placeholder](https://www.tensorflow.org/api_docs/python/tf/placeholder).\n",
    "* Implement `neural_net_label_input`\n",
    " * Return a [TF Placeholder](https://www.tensorflow.org/api_docs/python/tf/placeholder)\n",
    " * Set the shape using `n_classes` with batch size set to `None`.\n",
    " * Name the TensorFlow placeholder \"y\" using the TensorFlow `name` parameter in the [TF Placeholder](https://www.tensorflow.org/api_docs/python/tf/placeholder).\n",
    "* Implement `neural_net_keep_prob_input`\n",
    " * Return a [TF Placeholder](https://www.tensorflow.org/api_docs/python/tf/placeholder) for dropout keep probability.\n",
    " * Name the TensorFlow placeholder \"keep_prob\" using the TensorFlow `name` parameter in the [TF Placeholder](https://www.tensorflow.org/api_docs/python/tf/placeholder).\n",
    "\n",
    "These names will be used at the end of the project to load your saved model.\n",
    "\n",
    "Note: `None` for shapes in TensorFlow allow for a dynamic size."
   ]
  },
  {
   "cell_type": "code",
   "execution_count": 2,
   "metadata": {},
   "outputs": [
    {
     "name": "stdout",
     "output_type": "stream",
     "text": [
      "Image Input Tests Passed.\n",
      "Label Input Tests Passed.\n",
      "Keep Prob Tests Passed.\n"
     ]
    }
   ],
   "source": [
    "import tensorflow as tf\n",
    "\n",
    "def neural_net_image_input(image_shape):\n",
    "    \"\"\"\n",
    "    Return a Tensor for a batch of image input\n",
    "    : image_shape: Shape of the images\n",
    "    : return: Tensor for image input.\n",
    "    \"\"\"\n",
    "    # TODO: Implement Function\n",
    "    n_input_1 = image_shape[0]\n",
    "    n_input_2 = image_shape[1]\n",
    "    n_input_3 = image_shape[2]\n",
    "    return tf.placeholder(tf.float32,[None, n_input_1, n_input_2, n_input_3], name='x')\n",
    "\n",
    "\n",
    "def neural_net_label_input(n_classes):\n",
    "    \"\"\"\n",
    "    Return a Tensor for a batch of label input\n",
    "    : n_classes: Number of classes\n",
    "    : return: Tensor for label input.\n",
    "    \"\"\"\n",
    "    # TODO: Implement Function\n",
    "    return tf.placeholder(tf.float32, [None, n_classes], name='y')\n",
    "\n",
    "\n",
    "def neural_net_keep_prob_input():\n",
    "    \"\"\"\n",
    "    Return a Tensor for keep probability\n",
    "    : return: Tensor for keep probability.\n",
    "    \"\"\"\n",
    "    # TODO: Implement Function\n",
    "    return tf.placeholder(tf.float32, None, name='keep_prob')\n",
    "\n",
    "\n",
    "\"\"\"\n",
    "DON'T MODIFY ANYTHING IN THIS CELL THAT IS BELOW THIS LINE\n",
    "\"\"\"\n",
    "tf.reset_default_graph()\n",
    "tests.test_nn_image_inputs(neural_net_image_input)\n",
    "tests.test_nn_label_inputs(neural_net_label_input)\n",
    "tests.test_nn_keep_prob_inputs(neural_net_keep_prob_input)"
   ]
  },
  {
   "cell_type": "markdown",
   "metadata": {},
   "source": [
    "### Convolution and Max Pooling Layer\n",
    "Convolution layers have a lot of success with images. For this code cell, you should implement the function `conv2d_maxpool` to apply convolution then max pooling:\n",
    "* Create the weight and bias using `conv_ksize`, `conv_num_outputs` and the shape of `x_tensor`.\n",
    "* Apply a convolution to `x_tensor` using weight and `conv_strides`.\n",
    " * We recommend you use same padding, but you're welcome to use any padding.\n",
    "* Add bias\n",
    "* Add a nonlinear activation to the convolution.\n",
    "* Apply Max Pooling using `pool_ksize` and `pool_strides`.\n",
    " * We recommend you use same padding, but you're welcome to use any padding.\n",
    "\n",
    "**Note:** You **can't** use [TensorFlow Layers](https://www.tensorflow.org/api_docs/python/tf/layers) or [TensorFlow Layers (contrib)](https://www.tensorflow.org/api_guides/python/contrib.layers) for **this** layer, but you can still use TensorFlow's [Neural Network](https://www.tensorflow.org/api_docs/python/tf/nn) package. You may still use the shortcut option for all the **other** layers."
   ]
  },
  {
   "cell_type": "code",
   "execution_count": 3,
   "metadata": {},
   "outputs": [
    {
     "name": "stdout",
     "output_type": "stream",
     "text": [
      "Tests Passed\n"
     ]
    }
   ],
   "source": [
    "def conv2d_maxpool(x_tensor, conv_num_outputs, conv_ksize, conv_strides, pool_ksize, pool_strides):\n",
    "    \"\"\"\n",
    "    Apply convolution then max pooling to x_tensor\n",
    "    :param x_tensor: TensorFlow Tensor\n",
    "    :param conv_num_outputs: Number of outputs for the convolutional layer\n",
    "    :param conv_ksize: kernal size 2-D Tuple for the convolutional layer\n",
    "    :param conv_strides: Stride 2-D Tuple for convolution\n",
    "    :param pool_ksize: kernal size 2-D Tuple for pool\n",
    "    :param pool_strides: Stride 2-D Tuple for pool\n",
    "    : return: A tensor that represents convolution and max pooling of x_tensor\n",
    "    \"\"\"\n",
    "        \n",
    "    depth = x_tensor.get_shape().as_list()[-1]\n",
    "    bias = tf.Variable(tf.zeros(conv_num_outputs))\n",
    "\n",
    "    c_strides = [1, conv_strides[0], conv_strides[1], 1]\n",
    "    p_ksize = [1, pool_ksize[0], pool_ksize[1], 1]\n",
    "    p_strides = [1, pool_strides[0], pool_strides[1], 1]\n",
    "    \n",
    "    # 2x2x5x10\n",
    "    weight= tf.Variable(tf.truncated_normal([conv_ksize[0], conv_ksize[1], depth, conv_num_outputs]))\n",
    "    \n",
    "    \n",
    "    conv = tf.nn.conv2d(x_tensor, weight, c_strides, 'SAME') + bias\n",
    "    conv = tf.nn.relu(conv)\n",
    "    \n",
    "    pool = tf.nn.max_pool(conv, p_ksize, p_strides, 'SAME')\n",
    "    \n",
    "    return pool\n",
    "\n",
    "\n",
    "\"\"\"\n",
    "DON'T MODIFY ANYTHING IN THIS CELL THAT IS BELOW THIS LINE\n",
    "\"\"\"\n",
    "tests.test_con_pool(conv2d_maxpool)"
   ]
  },
  {
   "cell_type": "markdown",
   "metadata": {},
   "source": [
    "### Flatten Layer\n",
    "Implement the `flatten` function to change the dimension of `x_tensor` from a 4-D tensor to a 2-D tensor.  The output should be the shape (*Batch Size*, *Flattened Image Size*). Shortcut option: you can use classes from the [TensorFlow Layers](https://www.tensorflow.org/api_docs/python/tf/layers) or [TensorFlow Layers (contrib)](https://www.tensorflow.org/api_guides/python/contrib.layers) packages for this layer. For more of a challenge, only use other TensorFlow packages."
   ]
  },
  {
   "cell_type": "code",
   "execution_count": 4,
   "metadata": {},
   "outputs": [
    {
     "name": "stdout",
     "output_type": "stream",
     "text": [
      "Tests Passed\n"
     ]
    }
   ],
   "source": [
    "def flatten(x_tensor):\n",
    "    \"\"\"\n",
    "    Flatten x_tensor to (Batch Size, Flattened Image Size)\n",
    "    : x_tensor: A tensor of size (Batch Size, ...), where ... are the image dimensions.\n",
    "    : return: A tensor of size (Batch Size, Flattened Image Size).\n",
    "    \"\"\"\n",
    "    # TODO: Implement Function\n",
    "    b, w, h, d = x_tensor.get_shape().as_list()\n",
    "    img_size = w * h * d\n",
    "    return tf.reshape(x_tensor, [-1, img_size])\n",
    "\n",
    "\n",
    "\"\"\"\n",
    "DON'T MODIFY ANYTHING IN THIS CELL THAT IS BELOW THIS LINE\n",
    "\"\"\"\n",
    "tests.test_flatten(flatten)"
   ]
  },
  {
   "cell_type": "markdown",
   "metadata": {},
   "source": [
    "### Fully-Connected Layer\n",
    "Implement the `fully_conn` function to apply a fully connected layer to `x_tensor` with the shape (*Batch Size*, *num_outputs*). Shortcut option: you can use classes from the [TensorFlow Layers](https://www.tensorflow.org/api_docs/python/tf/layers) or [TensorFlow Layers (contrib)](https://www.tensorflow.org/api_guides/python/contrib.layers) packages for this layer. For more of a challenge, only use other TensorFlow packages."
   ]
  },
  {
   "cell_type": "code",
   "execution_count": 5,
   "metadata": {},
   "outputs": [
    {
     "name": "stdout",
     "output_type": "stream",
     "text": [
      "Tests Passed\n"
     ]
    }
   ],
   "source": [
    "def fully_conn(x_tensor, num_outputs):\n",
    "    \"\"\"\n",
    "    Apply a fully connected layer to x_tensor using weight and bias\n",
    "    : x_tensor: A 2-D tensor where the first dimension is batch size.\n",
    "    : num_outputs: The number of output that the new tensor should be.\n",
    "    : return: A 2-D tensor where the second dimension is num_outputs.\n",
    "    \"\"\"\n",
    "    # TODO: Implement Function\n",
    "    shape = x_tensor.get_shape().as_list()\n",
    "    weight = tf.Variable(tf.truncated_normal([shape[-1], num_outputs]))\n",
    "    bias = tf.Variable(tf.zeros(num_outputs))\n",
    "    return tf.nn.relu(tf.add(tf.matmul(x_tensor, weight), bias))\n",
    "\n",
    "\n",
    "\"\"\"\n",
    "DON'T MODIFY ANYTHING IN THIS CELL THAT IS BELOW THIS LINE\n",
    "\"\"\"\n",
    "tests.test_fully_conn(fully_conn)"
   ]
  },
  {
   "cell_type": "markdown",
   "metadata": {},
   "source": [
    "### Output Layer\n",
    "Implement the `output` function to apply a fully connected layer to `x_tensor` with the shape (*Batch Size*, *num_outputs*). Shortcut option: you can use classes from the [TensorFlow Layers](https://www.tensorflow.org/api_docs/python/tf/layers) or [TensorFlow Layers (contrib)](https://www.tensorflow.org/api_guides/python/contrib.layers) packages for this layer. For more of a challenge, only use other TensorFlow packages.\n",
    "\n",
    "**Note:** Activation, softmax, or cross entropy should **not** be applied to this."
   ]
  },
  {
   "cell_type": "code",
   "execution_count": 6,
   "metadata": {},
   "outputs": [
    {
     "name": "stdout",
     "output_type": "stream",
     "text": [
      "Tests Passed\n"
     ]
    }
   ],
   "source": [
    "def output(x_tensor, num_outputs):\n",
    "    \"\"\"\n",
    "    Apply a output layer to x_tensor using weight and bias\n",
    "    : x_tensor: A 2-D tensor where the first dimension is batch size.\n",
    "    : num_outputs: The number of output that the new tensor should be.\n",
    "    : return: A 2-D tensor where the second dimension is num_outputs.\n",
    "    \"\"\"\n",
    "    shape = x_tensor.get_shape().as_list()\n",
    "    weight = tf.Variable(tf.truncated_normal([shape[-1], num_outputs], stddev=0.1))\n",
    "    bias = tf.Variable(tf.zeros(num_outputs))\n",
    "    return tf.add(tf.matmul(x_tensor, weight), bias)\n",
    "\n",
    "\n",
    "\"\"\"\n",
    "DON'T MODIFY ANYTHING IN THIS CELL THAT IS BELOW THIS LINE\n",
    "\"\"\"\n",
    "tests.test_output(output)"
   ]
  },
  {
   "cell_type": "markdown",
   "metadata": {},
   "source": [
    "### Create Convolutional Model\n",
    "Implement the function `conv_net` to create a convolutional neural network model. The function takes in a batch of images, `x`, and outputs logits.  Use the layers you created above to create this model:\n",
    "\n",
    "* Apply 1, 2, or 3 Convolution and Max Pool layers\n",
    "* Apply a Flatten Layer\n",
    "* Apply 1, 2, or 3 Fully Connected Layers\n",
    "* Apply an Output Layer\n",
    "* Return the output\n",
    "* Apply [TensorFlow's Dropout](https://www.tensorflow.org/api_docs/python/tf/nn/dropout) to one or more layers in the model using `keep_prob`. "
   ]
  },
  {
   "cell_type": "code",
   "execution_count": 7,
   "metadata": {},
   "outputs": [
    {
     "name": "stdout",
     "output_type": "stream",
     "text": [
      "Neural Network Built!\n"
     ]
    }
   ],
   "source": [
    "def conv_net(x, keep_prob):\n",
    "    \"\"\"\n",
    "    Create a convolutional neural network model\n",
    "    : x: Placeholder tensor that holds image data.\n",
    "    : keep_prob: Placeholder tensor that hold dropout keep probability.\n",
    "    : return: Tensor that represents logits\n",
    "    \"\"\"\n",
    "    # TODO: Apply 1, 2, or 3 Convolution and Max Pool layers\n",
    "    #    Play around with different number of outputs, kernel size and stride\n",
    "    # Function Definition from Above:\n",
    "    #    conv2d_maxpool(x_tensor, conv_num_outputs, conv_ksize, conv_strides, pool_ksize, pool_strides)\n",
    "    \n",
    "    layer = conv2d_maxpool(x, 16, (4,4), (1,1), (2,2), (2,2))\n",
    "    tf.nn.dropout(layer, keep_prob=keep_prob)\n",
    "    \n",
    "    # TODO: Apply a Flatten Layer\n",
    "    # Function Definition from Above:\n",
    "    #   flatten(x_tensor)\n",
    "    layer = flatten(layer)\n",
    "    \n",
    "\n",
    "    # TODO: Apply 1, 2, or 3 Fully Connected Layers\n",
    "    #    Play around with different number of outputs\n",
    "    # Function Definition from Above:\n",
    "    #   fully_conn(x_tensor, num_outputs)\n",
    "    \n",
    "    layer = fully_conn(layer,400)\n",
    "    layer = tf.nn.dropout(layer, keep_prob)\n",
    "    \n",
    "    \n",
    "    # TODO: Apply an Output Layer\n",
    "    #    Set this to the number of classes\n",
    "    # Function Definition from Above:\n",
    "    #   output(x_tensor, num_outputs)\n",
    "    res = output(layer,10)\n",
    "    \n",
    "    \n",
    "    # TODO: return output\n",
    "    return res\n",
    "\n",
    "\n",
    "\"\"\"\n",
    "DON'T MODIFY ANYTHING IN THIS CELL THAT IS BELOW THIS LINE\n",
    "\"\"\"\n",
    "\n",
    "##############################\n",
    "## Build the Neural Network ##\n",
    "##############################\n",
    "\n",
    "# Remove previous weights, bias, inputs, etc..\n",
    "tf.reset_default_graph()\n",
    "\n",
    "# Inputs\n",
    "x = neural_net_image_input((32, 32, 3))\n",
    "y = neural_net_label_input(10)\n",
    "keep_prob = neural_net_keep_prob_input()\n",
    "\n",
    "# Model\n",
    "logits = conv_net(x, keep_prob)\n",
    "\n",
    "# Name logits Tensor, so that is can be loaded from disk after training\n",
    "logits = tf.identity(logits, name='logits')\n",
    "\n",
    "# Loss and Optimizer\n",
    "cost = tf.reduce_mean(tf.nn.softmax_cross_entropy_with_logits(logits=logits, labels=y))\n",
    "optimizer = tf.train.AdamOptimizer().minimize(cost)\n",
    "\n",
    "# Accuracy\n",
    "correct_pred = tf.equal(tf.argmax(logits, 1), tf.argmax(y, 1))\n",
    "accuracy = tf.reduce_mean(tf.cast(correct_pred, tf.float32), name='accuracy')\n",
    "\n",
    "tests.test_conv_net(conv_net)"
   ]
  },
  {
   "cell_type": "markdown",
   "metadata": {},
   "source": [
    "## Train the Neural Network\n",
    "### Single Optimization\n",
    "Implement the function `train_neural_network` to do a single optimization.  The optimization should use `optimizer` to optimize in `session` with a `feed_dict` of the following:\n",
    "* `x` for image input\n",
    "* `y` for labels\n",
    "* `keep_prob` for keep probability for dropout\n",
    "\n",
    "This function will be called for each batch, so `tf.global_variables_initializer()` has already been called.\n",
    "\n",
    "Note: Nothing needs to be returned. This function is only optimizing the neural network."
   ]
  },
  {
   "cell_type": "code",
   "execution_count": 8,
   "metadata": {},
   "outputs": [
    {
     "name": "stdout",
     "output_type": "stream",
     "text": [
      "Tests Passed\n"
     ]
    }
   ],
   "source": [
    "def train_neural_network(session, optimizer, keep_probability, feature_batch, label_batch):\n",
    "    \"\"\"\n",
    "    Optimize the session on a batch of images and labels\n",
    "    : session: Current TensorFlow session\n",
    "    : optimizer: TensorFlow optimizer function\n",
    "    : keep_probability: keep probability\n",
    "    : feature_batch: Batch of Numpy image data\n",
    "    : label_batch: Batch of Numpy label data\n",
    "    \"\"\"\n",
    "    # TODO: Implement Function\n",
    "    session.run(optimizer, feed_dict={x: feature_batch, y: label_batch, keep_prob: keep_probability})\n",
    "\n",
    "\n",
    "\"\"\"\n",
    "DON'T MODIFY ANYTHING IN THIS CELL THAT IS BELOW THIS LINE\n",
    "\"\"\"\n",
    "tests.test_train_nn(train_neural_network)"
   ]
  },
  {
   "cell_type": "markdown",
   "metadata": {},
   "source": [
    "### Show Stats\n",
    "Implement the function `print_stats` to print loss and validation accuracy.  Use the global variables `valid_features` and `valid_labels` to calculate validation accuracy.  Use a keep probability of `1.0` to calculate the loss and validation accuracy."
   ]
  },
  {
   "cell_type": "code",
   "execution_count": 9,
   "metadata": {
    "collapsed": true
   },
   "outputs": [],
   "source": [
    "def print_stats(session, feature_batch, label_batch, cost, accuracy):\n",
    "    \"\"\"\n",
    "    Print information about loss and validation accuracy\n",
    "    : session: Current TensorFlow session\n",
    "    : feature_batch: Batch of Numpy image data\n",
    "    : label_batch: Batch of Numpy label data\n",
    "    : cost: TensorFlow cost function\n",
    "    : accuracy: TensorFlow accuracy function\n",
    "    \"\"\"\n",
    "    # TODO: Implement Function\n",
    "    cost = session.run(cost, feed_dict={x: feature_batch, y: label_batch, keep_prob: 1.0})\n",
    "    validation_accuracy = session.run(accuracy, feed_dict={x: valid_features, y: valid_labels, keep_prob: 1.0})\n",
    "    print('Cost = {0} - Validation Accuracy = {1}'.format(cost, validation_accuracy))"
   ]
  },
  {
   "cell_type": "markdown",
   "metadata": {},
   "source": [
    "### Hyperparameters\n",
    "Tune the following parameters:\n",
    "* Set `epochs` to the number of iterations until the network stops learning or start overfitting\n",
    "* Set `batch_size` to the highest number that your machine has memory for.  Most people set them to common sizes of memory:\n",
    " * 64\n",
    " * 128\n",
    " * 256\n",
    " * ...\n",
    "* Set `keep_probability` to the probability of keeping a node using dropout"
   ]
  },
  {
   "cell_type": "code",
   "execution_count": 10,
   "metadata": {
    "collapsed": true
   },
   "outputs": [],
   "source": [
    "# TODO: Tune Parameters\n",
    "epochs = 60\n",
    "batch_size = 128\n",
    "keep_probability = 1"
   ]
  },
  {
   "cell_type": "markdown",
   "metadata": {},
   "source": [
    "### Train on a Single CIFAR-10 Batch\n",
    "Instead of training the neural network on all the CIFAR-10 batches of data, let's use a single batch. This should save time while you iterate on the model to get a better accuracy.  Once the final validation accuracy is 50% or greater, run the model on all the data in the next section."
   ]
  },
  {
   "cell_type": "code",
   "execution_count": 11,
   "metadata": {},
   "outputs": [
    {
     "name": "stdout",
     "output_type": "stream",
     "text": [
      "Checking the Training on a Single Batch...\n",
      "Epoch  1, CIFAR-10 Batch 1:  Cost = 27.0548038482666 - Validation Accuracy = 0.23559999465942383\n",
      "Epoch  2, CIFAR-10 Batch 1:  Cost = 17.310138702392578 - Validation Accuracy = 0.26339998841285706\n",
      "Epoch  3, CIFAR-10 Batch 1:  Cost = 11.979177474975586 - Validation Accuracy = 0.2840000092983246\n",
      "Epoch  4, CIFAR-10 Batch 1:  Cost = 9.282127380371094 - Validation Accuracy = 0.2948000133037567\n",
      "Epoch  5, CIFAR-10 Batch 1:  Cost = 6.815895080566406 - Validation Accuracy = 0.30480000376701355\n",
      "Epoch  6, CIFAR-10 Batch 1:  Cost = 5.016272068023682 - Validation Accuracy = 0.31220000982284546\n",
      "Epoch  7, CIFAR-10 Batch 1:  Cost = 3.556748867034912 - Validation Accuracy = 0.31439998745918274\n",
      "Epoch  8, CIFAR-10 Batch 1:  Cost = 2.818603992462158 - Validation Accuracy = 0.32199999690055847\n",
      "Epoch  9, CIFAR-10 Batch 1:  Cost = 2.342808246612549 - Validation Accuracy = 0.328000009059906\n",
      "Epoch 10, CIFAR-10 Batch 1:  Cost = 1.7356036901474 - Validation Accuracy = 0.3346000015735626\n",
      "Epoch 11, CIFAR-10 Batch 1:  Cost = 1.4500033855438232 - Validation Accuracy = 0.3370000123977661\n",
      "Epoch 12, CIFAR-10 Batch 1:  Cost = 1.386781930923462 - Validation Accuracy = 0.33899998664855957\n",
      "Epoch 13, CIFAR-10 Batch 1:  Cost = 1.2178794145584106 - Validation Accuracy = 0.3384000062942505\n",
      "Epoch 14, CIFAR-10 Batch 1:  Cost = 1.0856364965438843 - Validation Accuracy = 0.34040001034736633\n",
      "Epoch 15, CIFAR-10 Batch 1:  Cost = 0.9880684614181519 - Validation Accuracy = 0.3441999852657318\n",
      "Epoch 16, CIFAR-10 Batch 1:  Cost = 0.8026149868965149 - Validation Accuracy = 0.3467999994754791\n",
      "Epoch 17, CIFAR-10 Batch 1:  Cost = 0.6433278918266296 - Validation Accuracy = 0.3513999879360199\n",
      "Epoch 18, CIFAR-10 Batch 1:  Cost = 0.5690820813179016 - Validation Accuracy = 0.3555999994277954\n",
      "Epoch 19, CIFAR-10 Batch 1:  Cost = 0.5819380879402161 - Validation Accuracy = 0.34439998865127563\n",
      "Epoch 20, CIFAR-10 Batch 1:  Cost = 0.5429444313049316 - Validation Accuracy = 0.3540000021457672\n",
      "Epoch 21, CIFAR-10 Batch 1:  Cost = 0.43605226278305054 - Validation Accuracy = 0.3628000020980835\n",
      "Epoch 22, CIFAR-10 Batch 1:  Cost = 0.27648448944091797 - Validation Accuracy = 0.36480000615119934\n",
      "Epoch 23, CIFAR-10 Batch 1:  Cost = 0.19623056054115295 - Validation Accuracy = 0.3691999912261963\n",
      "Epoch 24, CIFAR-10 Batch 1:  Cost = 0.16199317574501038 - Validation Accuracy = 0.37299999594688416\n",
      "Epoch 25, CIFAR-10 Batch 1:  Cost = 0.1387898176908493 - Validation Accuracy = 0.375\n",
      "Epoch 26, CIFAR-10 Batch 1:  Cost = 0.14554843306541443 - Validation Accuracy = 0.37860000133514404\n",
      "Epoch 27, CIFAR-10 Batch 1:  Cost = 0.16785326600074768 - Validation Accuracy = 0.37720000743865967\n",
      "Epoch 28, CIFAR-10 Batch 1:  Cost = 0.14513906836509705 - Validation Accuracy = 0.37220001220703125\n",
      "Epoch 29, CIFAR-10 Batch 1:  Cost = 0.10927804559469223 - Validation Accuracy = 0.3774000108242035\n",
      "Epoch 30, CIFAR-10 Batch 1:  Cost = 0.09533809125423431 - Validation Accuracy = 0.3781999945640564\n",
      "Epoch 31, CIFAR-10 Batch 1:  Cost = 0.12122323364019394 - Validation Accuracy = 0.3741999864578247\n",
      "Epoch 32, CIFAR-10 Batch 1:  Cost = 0.09742484986782074 - Validation Accuracy = 0.37540000677108765\n",
      "Epoch 33, CIFAR-10 Batch 1:  Cost = 0.05736565589904785 - Validation Accuracy = 0.3765999972820282\n",
      "Epoch 34, CIFAR-10 Batch 1:  Cost = 0.04687410593032837 - Validation Accuracy = 0.37940001487731934\n",
      "Epoch 35, CIFAR-10 Batch 1:  Cost = 0.04999930411577225 - Validation Accuracy = 0.3799999952316284\n",
      "Epoch 36, CIFAR-10 Batch 1:  Cost = 0.043588947504758835 - Validation Accuracy = 0.37940001487731934\n",
      "Epoch 37, CIFAR-10 Batch 1:  Cost = 0.02892645262181759 - Validation Accuracy = 0.3806000053882599\n",
      "Epoch 38, CIFAR-10 Batch 1:  Cost = 0.034270647913217545 - Validation Accuracy = 0.3763999938964844\n",
      "Epoch 39, CIFAR-10 Batch 1:  Cost = 0.031153645366430283 - Validation Accuracy = 0.36959999799728394\n",
      "Epoch 40, CIFAR-10 Batch 1:  Cost = 0.048481542617082596 - Validation Accuracy = 0.3684000074863434\n",
      "Epoch 41, CIFAR-10 Batch 1:  Cost = 0.04082382842898369 - Validation Accuracy = 0.3831999897956848\n",
      "Epoch 42, CIFAR-10 Batch 1:  Cost = 0.040826670825481415 - Validation Accuracy = 0.3887999951839447\n",
      "Epoch 43, CIFAR-10 Batch 1:  Cost = 0.044259995222091675 - Validation Accuracy = 0.3952000141143799\n",
      "Epoch 44, CIFAR-10 Batch 1:  Cost = 0.039308734238147736 - Validation Accuracy = 0.3905999958515167\n",
      "Epoch 45, CIFAR-10 Batch 1:  Cost = 0.04559075087308884 - Validation Accuracy = 0.3869999945163727\n",
      "Epoch 46, CIFAR-10 Batch 1:  Cost = 0.06401985138654709 - Validation Accuracy = 0.38600000739097595\n",
      "Epoch 47, CIFAR-10 Batch 1:  Cost = 0.10885949432849884 - Validation Accuracy = 0.38920000195503235\n",
      "Epoch 48, CIFAR-10 Batch 1:  Cost = 0.08555343002080917 - Validation Accuracy = 0.3928000032901764\n",
      "Epoch 49, CIFAR-10 Batch 1:  Cost = 0.03759288042783737 - Validation Accuracy = 0.39100000262260437\n",
      "Epoch 50, CIFAR-10 Batch 1:  Cost = 0.022231077775359154 - Validation Accuracy = 0.391400009393692\n",
      "Epoch 51, CIFAR-10 Batch 1:  Cost = 0.020691802725195885 - Validation Accuracy = 0.38100001215934753\n",
      "Epoch 52, CIFAR-10 Batch 1:  Cost = 0.025389987975358963 - Validation Accuracy = 0.38019999861717224\n",
      "Epoch 53, CIFAR-10 Batch 1:  Cost = 0.020122161135077477 - Validation Accuracy = 0.3864000141620636\n",
      "Epoch 54, CIFAR-10 Batch 1:  Cost = 0.01761607453227043 - Validation Accuracy = 0.3912000060081482\n",
      "Epoch 55, CIFAR-10 Batch 1:  Cost = 0.015131233260035515 - Validation Accuracy = 0.39399999380111694\n",
      "Epoch 56, CIFAR-10 Batch 1:  Cost = 0.016891751438379288 - Validation Accuracy = 0.3937999904155731\n",
      "Epoch 57, CIFAR-10 Batch 1:  Cost = 0.019153142347931862 - Validation Accuracy = 0.39899998903274536\n",
      "Epoch 58, CIFAR-10 Batch 1:  Cost = 0.01697596162557602 - Validation Accuracy = 0.39500001072883606\n",
      "Epoch 59, CIFAR-10 Batch 1:  Cost = 0.01342502050101757 - Validation Accuracy = 0.39160001277923584\n",
      "Epoch 60, CIFAR-10 Batch 1:  Cost = 0.007972151041030884 - Validation Accuracy = 0.3953999876976013\n"
     ]
    }
   ],
   "source": [
    "\"\"\"\n",
    "DON'T MODIFY ANYTHING IN THIS CELL\n",
    "\"\"\"\n",
    "print('Checking the Training on a Single Batch...')\n",
    "with tf.Session() as sess:\n",
    "    # Initializing the variables\n",
    "    sess.run(tf.global_variables_initializer())\n",
    "    \n",
    "    # Training cycle\n",
    "    for epoch in range(epochs):\n",
    "        batch_i = 1\n",
    "        for batch_features, batch_labels in helper.load_preprocess_training_batch(batch_i, batch_size):\n",
    "            train_neural_network(sess, optimizer, keep_probability, batch_features, batch_labels)\n",
    "        print('Epoch {:>2}, CIFAR-10 Batch {}:  '.format(epoch + 1, batch_i), end='')\n",
    "        print_stats(sess, batch_features, batch_labels, cost, accuracy)"
   ]
  },
  {
   "cell_type": "markdown",
   "metadata": {},
   "source": [
    "### Fully Train the Model\n",
    "Now that you got a good accuracy with a single CIFAR-10 batch, try it with all five batches."
   ]
  },
  {
   "cell_type": "code",
   "execution_count": 12,
   "metadata": {},
   "outputs": [
    {
     "name": "stdout",
     "output_type": "stream",
     "text": [
      "Training...\n",
      "Epoch  1, CIFAR-10 Batch 1:  Cost = 45.070343017578125 - Validation Accuracy = 0.20839999616146088\n",
      "Epoch  1, CIFAR-10 Batch 2:  Cost = 37.370662689208984 - Validation Accuracy = 0.2572000026702881\n",
      "Epoch  1, CIFAR-10 Batch 3:  Cost = 22.8813533782959 - Validation Accuracy = 0.27079999446868896\n",
      "Epoch  1, CIFAR-10 Batch 4:  Cost = 13.618367195129395 - Validation Accuracy = 0.3012000024318695\n",
      "Epoch  1, CIFAR-10 Batch 5:  Cost = 16.969762802124023 - Validation Accuracy = 0.3140000104904175\n",
      "Epoch  2, CIFAR-10 Batch 1:  Cost = 16.99875259399414 - Validation Accuracy = 0.3230000138282776\n",
      "Epoch  2, CIFAR-10 Batch 2:  Cost = 15.877375602722168 - Validation Accuracy = 0.33219999074935913\n",
      "Epoch  2, CIFAR-10 Batch 3:  Cost = 11.003536224365234 - Validation Accuracy = 0.3330000042915344\n",
      "Epoch  2, CIFAR-10 Batch 4:  Cost = 7.108371734619141 - Validation Accuracy = 0.3418000042438507\n",
      "Epoch  2, CIFAR-10 Batch 5:  Cost = 9.703251838684082 - Validation Accuracy = 0.3386000096797943\n",
      "Epoch  3, CIFAR-10 Batch 1:  Cost = 8.645567893981934 - Validation Accuracy = 0.3499999940395355\n",
      "Epoch  3, CIFAR-10 Batch 2:  Cost = 8.930262565612793 - Validation Accuracy = 0.35420000553131104\n",
      "Epoch  3, CIFAR-10 Batch 3:  Cost = 6.026837348937988 - Validation Accuracy = 0.3458000123500824\n",
      "Epoch  3, CIFAR-10 Batch 4:  Cost = 4.801537036895752 - Validation Accuracy = 0.36579999327659607\n",
      "Epoch  3, CIFAR-10 Batch 5:  Cost = 6.623391151428223 - Validation Accuracy = 0.3479999899864197\n",
      "Epoch  4, CIFAR-10 Batch 1:  Cost = 5.061042785644531 - Validation Accuracy = 0.3596000075340271\n",
      "Epoch  4, CIFAR-10 Batch 2:  Cost = 5.978264808654785 - Validation Accuracy = 0.35440000891685486\n",
      "Epoch  4, CIFAR-10 Batch 3:  Cost = 4.433022499084473 - Validation Accuracy = 0.367000013589859\n",
      "Epoch  4, CIFAR-10 Batch 4:  Cost = 2.971251964569092 - Validation Accuracy = 0.3653999865055084\n",
      "Epoch  4, CIFAR-10 Batch 5:  Cost = 5.140171051025391 - Validation Accuracy = 0.3686000108718872\n",
      "Epoch  5, CIFAR-10 Batch 1:  Cost = 3.8472888469696045 - Validation Accuracy = 0.36980000138282776\n",
      "Epoch  5, CIFAR-10 Batch 2:  Cost = 3.702068328857422 - Validation Accuracy = 0.36399999260902405\n",
      "Epoch  5, CIFAR-10 Batch 3:  Cost = 3.380891799926758 - Validation Accuracy = 0.3822000026702881\n",
      "Epoch  5, CIFAR-10 Batch 4:  Cost = 2.2025179862976074 - Validation Accuracy = 0.3808000087738037\n",
      "Epoch  5, CIFAR-10 Batch 5:  Cost = 3.9182181358337402 - Validation Accuracy = 0.3774000108242035\n",
      "Epoch  6, CIFAR-10 Batch 1:  Cost = 3.086552143096924 - Validation Accuracy = 0.38499999046325684\n",
      "Epoch  6, CIFAR-10 Batch 2:  Cost = 2.6288487911224365 - Validation Accuracy = 0.3779999911785126\n",
      "Epoch  6, CIFAR-10 Batch 3:  Cost = 2.6152939796447754 - Validation Accuracy = 0.3946000039577484\n",
      "Epoch  6, CIFAR-10 Batch 4:  Cost = 1.8038930892944336 - Validation Accuracy = 0.3937999904155731\n",
      "Epoch  6, CIFAR-10 Batch 5:  Cost = 2.9013984203338623 - Validation Accuracy = 0.38920000195503235\n",
      "Epoch  7, CIFAR-10 Batch 1:  Cost = 2.448504686355591 - Validation Accuracy = 0.3946000039577484\n",
      "Epoch  7, CIFAR-10 Batch 2:  Cost = 2.003927707672119 - Validation Accuracy = 0.39320001006126404\n",
      "Epoch  7, CIFAR-10 Batch 3:  Cost = 1.9470195770263672 - Validation Accuracy = 0.40400001406669617\n",
      "Epoch  7, CIFAR-10 Batch 4:  Cost = 1.5977809429168701 - Validation Accuracy = 0.4032000005245209\n",
      "Epoch  7, CIFAR-10 Batch 5:  Cost = 2.2765846252441406 - Validation Accuracy = 0.3984000086784363\n",
      "Epoch  8, CIFAR-10 Batch 1:  Cost = 2.0198307037353516 - Validation Accuracy = 0.40880000591278076\n",
      "Epoch  8, CIFAR-10 Batch 2:  Cost = 1.498386263847351 - Validation Accuracy = 0.4007999897003174\n",
      "Epoch  8, CIFAR-10 Batch 3:  Cost = 1.5069853067398071 - Validation Accuracy = 0.4185999929904938\n",
      "Epoch  8, CIFAR-10 Batch 4:  Cost = 1.389198899269104 - Validation Accuracy = 0.4156000018119812\n",
      "Epoch  8, CIFAR-10 Batch 5:  Cost = 1.8016357421875 - Validation Accuracy = 0.41019999980926514\n",
      "Epoch  9, CIFAR-10 Batch 1:  Cost = 1.6773548126220703 - Validation Accuracy = 0.42160001397132874\n",
      "Epoch  9, CIFAR-10 Batch 2:  Cost = 1.1555421352386475 - Validation Accuracy = 0.4205999970436096\n",
      "Epoch  9, CIFAR-10 Batch 3:  Cost = 1.2404428720474243 - Validation Accuracy = 0.4296000003814697\n",
      "Epoch  9, CIFAR-10 Batch 4:  Cost = 1.2391592264175415 - Validation Accuracy = 0.4253999888896942\n",
      "Epoch  9, CIFAR-10 Batch 5:  Cost = 1.4461604356765747 - Validation Accuracy = 0.42480000853538513\n",
      "Epoch 10, CIFAR-10 Batch 1:  Cost = 1.4444844722747803 - Validation Accuracy = 0.4336000084877014\n",
      "Epoch 10, CIFAR-10 Batch 2:  Cost = 0.9301765561103821 - Validation Accuracy = 0.4323999881744385\n",
      "Epoch 10, CIFAR-10 Batch 3:  Cost = 1.0234558582305908 - Validation Accuracy = 0.4399999976158142\n",
      "Epoch 10, CIFAR-10 Batch 4:  Cost = 1.1066341400146484 - Validation Accuracy = 0.43880000710487366\n",
      "Epoch 10, CIFAR-10 Batch 5:  Cost = 1.228298544883728 - Validation Accuracy = 0.44279998540878296\n",
      "Epoch 11, CIFAR-10 Batch 1:  Cost = 1.2939348220825195 - Validation Accuracy = 0.44920000433921814\n",
      "Epoch 11, CIFAR-10 Batch 2:  Cost = 0.8056930303573608 - Validation Accuracy = 0.44620001316070557\n",
      "Epoch 11, CIFAR-10 Batch 3:  Cost = 0.876232922077179 - Validation Accuracy = 0.4498000144958496\n",
      "Epoch 11, CIFAR-10 Batch 4:  Cost = 1.0207408666610718 - Validation Accuracy = 0.4544000029563904\n",
      "Epoch 11, CIFAR-10 Batch 5:  Cost = 1.0838110446929932 - Validation Accuracy = 0.4607999920845032\n",
      "Epoch 12, CIFAR-10 Batch 1:  Cost = 1.1861584186553955 - Validation Accuracy = 0.4586000144481659\n",
      "Epoch 12, CIFAR-10 Batch 2:  Cost = 0.7252553105354309 - Validation Accuracy = 0.4586000144481659\n",
      "Epoch 12, CIFAR-10 Batch 3:  Cost = 0.7707353830337524 - Validation Accuracy = 0.4607999920845032\n",
      "Epoch 12, CIFAR-10 Batch 4:  Cost = 0.941231369972229 - Validation Accuracy = 0.4666000008583069\n",
      "Epoch 12, CIFAR-10 Batch 5:  Cost = 0.9877503514289856 - Validation Accuracy = 0.47040000557899475\n",
      "Epoch 13, CIFAR-10 Batch 1:  Cost = 1.0975532531738281 - Validation Accuracy = 0.47099998593330383\n",
      "Epoch 13, CIFAR-10 Batch 2:  Cost = 0.6667107343673706 - Validation Accuracy = 0.46880000829696655\n",
      "Epoch 13, CIFAR-10 Batch 3:  Cost = 0.6873152852058411 - Validation Accuracy = 0.4726000130176544\n",
      "Epoch 13, CIFAR-10 Batch 4:  Cost = 0.8675426244735718 - Validation Accuracy = 0.4724000096321106\n",
      "Epoch 13, CIFAR-10 Batch 5:  Cost = 0.9160933494567871 - Validation Accuracy = 0.4758000075817108\n",
      "Epoch 14, CIFAR-10 Batch 1:  Cost = 1.011612892150879 - Validation Accuracy = 0.47679999470710754\n",
      "Epoch 14, CIFAR-10 Batch 2:  Cost = 0.6150416731834412 - Validation Accuracy = 0.4724000096321106\n",
      "Epoch 14, CIFAR-10 Batch 3:  Cost = 0.6220309138298035 - Validation Accuracy = 0.4797999858856201\n",
      "Epoch 14, CIFAR-10 Batch 4:  Cost = 0.7892544865608215 - Validation Accuracy = 0.4819999933242798\n",
      "Epoch 14, CIFAR-10 Batch 5:  Cost = 0.8586189150810242 - Validation Accuracy = 0.4814000129699707\n",
      "Epoch 15, CIFAR-10 Batch 1:  Cost = 0.9365207552909851 - Validation Accuracy = 0.48159998655319214\n",
      "Epoch 15, CIFAR-10 Batch 2:  Cost = 0.5753401517868042 - Validation Accuracy = 0.48100000619888306\n",
      "Epoch 15, CIFAR-10 Batch 3:  Cost = 0.5580629110336304 - Validation Accuracy = 0.4796000123023987\n",
      "Epoch 15, CIFAR-10 Batch 4:  Cost = 0.7126734852790833 - Validation Accuracy = 0.4869999885559082\n",
      "Epoch 15, CIFAR-10 Batch 5:  Cost = 0.797845721244812 - Validation Accuracy = 0.48420000076293945\n",
      "Epoch 16, CIFAR-10 Batch 1:  Cost = 0.8779776692390442 - Validation Accuracy = 0.48840001225471497\n",
      "Epoch 16, CIFAR-10 Batch 2:  Cost = 0.5120753645896912 - Validation Accuracy = 0.4878000020980835\n",
      "Epoch 16, CIFAR-10 Batch 3:  Cost = 0.5010259747505188 - Validation Accuracy = 0.4837999939918518\n",
      "Epoch 16, CIFAR-10 Batch 4:  Cost = 0.6413933038711548 - Validation Accuracy = 0.49160000681877136\n",
      "Epoch 16, CIFAR-10 Batch 5:  Cost = 0.7472842931747437 - Validation Accuracy = 0.4851999878883362\n",
      "Epoch 17, CIFAR-10 Batch 1:  Cost = 0.8235946893692017 - Validation Accuracy = 0.49320000410079956\n",
      "Epoch 17, CIFAR-10 Batch 2:  Cost = 0.46231406927108765 - Validation Accuracy = 0.4934000074863434\n",
      "Epoch 17, CIFAR-10 Batch 3:  Cost = 0.4507265090942383 - Validation Accuracy = 0.48500001430511475\n",
      "Epoch 17, CIFAR-10 Batch 4:  Cost = 0.5624096989631653 - Validation Accuracy = 0.49380001425743103\n"
     ]
    },
    {
     "name": "stdout",
     "output_type": "stream",
     "text": [
      "Epoch 17, CIFAR-10 Batch 5:  Cost = 0.6951875686645508 - Validation Accuracy = 0.4832000136375427\n",
      "Epoch 18, CIFAR-10 Batch 1:  Cost = 0.7759256362915039 - Validation Accuracy = 0.49720001220703125\n",
      "Epoch 18, CIFAR-10 Batch 2:  Cost = 0.41363754868507385 - Validation Accuracy = 0.49380001425743103\n",
      "Epoch 18, CIFAR-10 Batch 3:  Cost = 0.39320001006126404 - Validation Accuracy = 0.487199991941452\n",
      "Epoch 18, CIFAR-10 Batch 4:  Cost = 0.4781263470649719 - Validation Accuracy = 0.4997999966144562\n",
      "Epoch 18, CIFAR-10 Batch 5:  Cost = 0.6430558562278748 - Validation Accuracy = 0.4869999885559082\n",
      "Epoch 19, CIFAR-10 Batch 1:  Cost = 0.7262380123138428 - Validation Accuracy = 0.5004000067710876\n",
      "Epoch 19, CIFAR-10 Batch 2:  Cost = 0.377814918756485 - Validation Accuracy = 0.498199999332428\n",
      "Epoch 19, CIFAR-10 Batch 3:  Cost = 0.35666173696517944 - Validation Accuracy = 0.4880000054836273\n",
      "Epoch 19, CIFAR-10 Batch 4:  Cost = 0.3977436125278473 - Validation Accuracy = 0.503000020980835\n",
      "Epoch 19, CIFAR-10 Batch 5:  Cost = 0.5807126760482788 - Validation Accuracy = 0.48820000886917114\n",
      "Epoch 20, CIFAR-10 Batch 1:  Cost = 0.6815924048423767 - Validation Accuracy = 0.5019999742507935\n",
      "Epoch 20, CIFAR-10 Batch 2:  Cost = 0.3289929926395416 - Validation Accuracy = 0.4959999918937683\n",
      "Epoch 20, CIFAR-10 Batch 3:  Cost = 0.31078022718429565 - Validation Accuracy = 0.49219998717308044\n",
      "Epoch 20, CIFAR-10 Batch 4:  Cost = 0.338043749332428 - Validation Accuracy = 0.5040000081062317\n",
      "Epoch 20, CIFAR-10 Batch 5:  Cost = 0.5232173204421997 - Validation Accuracy = 0.48739999532699585\n",
      "Epoch 21, CIFAR-10 Batch 1:  Cost = 0.6308401823043823 - Validation Accuracy = 0.5027999877929688\n",
      "Epoch 21, CIFAR-10 Batch 2:  Cost = 0.2883988320827484 - Validation Accuracy = 0.4952000081539154\n",
      "Epoch 21, CIFAR-10 Batch 3:  Cost = 0.2583162188529968 - Validation Accuracy = 0.4984000027179718\n",
      "Epoch 21, CIFAR-10 Batch 4:  Cost = 0.2881707549095154 - Validation Accuracy = 0.5081999897956848\n",
      "Epoch 21, CIFAR-10 Batch 5:  Cost = 0.47244739532470703 - Validation Accuracy = 0.4860000014305115\n",
      "Epoch 22, CIFAR-10 Batch 1:  Cost = 0.5731185674667358 - Validation Accuracy = 0.5063999891281128\n",
      "Epoch 22, CIFAR-10 Batch 2:  Cost = 0.24569113552570343 - Validation Accuracy = 0.4943999946117401\n",
      "Epoch 22, CIFAR-10 Batch 3:  Cost = 0.21254019439220428 - Validation Accuracy = 0.49779999256134033\n",
      "Epoch 22, CIFAR-10 Batch 4:  Cost = 0.25150805711746216 - Validation Accuracy = 0.5044000148773193\n",
      "Epoch 22, CIFAR-10 Batch 5:  Cost = 0.41328883171081543 - Validation Accuracy = 0.49219998717308044\n",
      "Epoch 23, CIFAR-10 Batch 1:  Cost = 0.5098308324813843 - Validation Accuracy = 0.5031999945640564\n",
      "Epoch 23, CIFAR-10 Batch 2:  Cost = 0.2027287483215332 - Validation Accuracy = 0.4909999966621399\n",
      "Epoch 23, CIFAR-10 Batch 3:  Cost = 0.18425938487052917 - Validation Accuracy = 0.49559998512268066\n",
      "Epoch 23, CIFAR-10 Batch 4:  Cost = 0.21699753403663635 - Validation Accuracy = 0.5009999871253967\n",
      "Epoch 23, CIFAR-10 Batch 5:  Cost = 0.3579900860786438 - Validation Accuracy = 0.4941999912261963\n",
      "Epoch 24, CIFAR-10 Batch 1:  Cost = 0.4409253001213074 - Validation Accuracy = 0.49939998984336853\n",
      "Epoch 24, CIFAR-10 Batch 2:  Cost = 0.16179151833057404 - Validation Accuracy = 0.49059998989105225\n",
      "Epoch 24, CIFAR-10 Batch 3:  Cost = 0.1727219671010971 - Validation Accuracy = 0.49059998989105225\n",
      "Epoch 24, CIFAR-10 Batch 4:  Cost = 0.18607434630393982 - Validation Accuracy = 0.498199999332428\n",
      "Epoch 24, CIFAR-10 Batch 5:  Cost = 0.30559712648391724 - Validation Accuracy = 0.5022000074386597\n",
      "Epoch 25, CIFAR-10 Batch 1:  Cost = 0.36394792795181274 - Validation Accuracy = 0.4950000047683716\n",
      "Epoch 25, CIFAR-10 Batch 2:  Cost = 0.11723911762237549 - Validation Accuracy = 0.4885999858379364\n",
      "Epoch 25, CIFAR-10 Batch 3:  Cost = 0.14403650164604187 - Validation Accuracy = 0.4918000102043152\n",
      "Epoch 25, CIFAR-10 Batch 4:  Cost = 0.14154212176799774 - Validation Accuracy = 0.5034000277519226\n",
      "Epoch 25, CIFAR-10 Batch 5:  Cost = 0.2587602734565735 - Validation Accuracy = 0.4986000061035156\n",
      "Epoch 26, CIFAR-10 Batch 1:  Cost = 0.3046873211860657 - Validation Accuracy = 0.49939998984336853\n",
      "Epoch 26, CIFAR-10 Batch 2:  Cost = 0.09596581757068634 - Validation Accuracy = 0.4896000027656555\n",
      "Epoch 26, CIFAR-10 Batch 3:  Cost = 0.11436334997415543 - Validation Accuracy = 0.5022000074386597\n",
      "Epoch 26, CIFAR-10 Batch 4:  Cost = 0.15653611719608307 - Validation Accuracy = 0.4950000047683716\n",
      "Epoch 26, CIFAR-10 Batch 5:  Cost = 0.2316148579120636 - Validation Accuracy = 0.49079999327659607\n",
      "Epoch 27, CIFAR-10 Batch 1:  Cost = 0.2664664685726166 - Validation Accuracy = 0.5049999952316284\n",
      "Epoch 27, CIFAR-10 Batch 2:  Cost = 0.07630924880504608 - Validation Accuracy = 0.49000000953674316\n",
      "Epoch 27, CIFAR-10 Batch 3:  Cost = 0.09465541690587997 - Validation Accuracy = 0.5059999823570251\n",
      "Epoch 27, CIFAR-10 Batch 4:  Cost = 0.11937465518712997 - Validation Accuracy = 0.5023999810218811\n",
      "Epoch 27, CIFAR-10 Batch 5:  Cost = 0.219743013381958 - Validation Accuracy = 0.4885999858379364\n",
      "Epoch 28, CIFAR-10 Batch 1:  Cost = 0.2728631794452667 - Validation Accuracy = 0.5008000135421753\n",
      "Epoch 28, CIFAR-10 Batch 2:  Cost = 0.07387954741716385 - Validation Accuracy = 0.5004000067710876\n",
      "Epoch 28, CIFAR-10 Batch 3:  Cost = 0.0818038135766983 - Validation Accuracy = 0.506600022315979\n",
      "Epoch 28, CIFAR-10 Batch 4:  Cost = 0.11585474014282227 - Validation Accuracy = 0.4997999966144562\n",
      "Epoch 28, CIFAR-10 Batch 5:  Cost = 0.1900358498096466 - Validation Accuracy = 0.5044000148773193\n",
      "Epoch 29, CIFAR-10 Batch 1:  Cost = 0.22937186062335968 - Validation Accuracy = 0.49380001425743103\n",
      "Epoch 29, CIFAR-10 Batch 2:  Cost = 0.06325645744800568 - Validation Accuracy = 0.5019999742507935\n",
      "Epoch 29, CIFAR-10 Batch 3:  Cost = 0.06880339235067368 - Validation Accuracy = 0.5134000182151794\n",
      "Epoch 29, CIFAR-10 Batch 4:  Cost = 0.10050196945667267 - Validation Accuracy = 0.49619999527931213\n",
      "Epoch 29, CIFAR-10 Batch 5:  Cost = 0.17097094655036926 - Validation Accuracy = 0.5117999911308289\n",
      "Epoch 30, CIFAR-10 Batch 1:  Cost = 0.14335067570209503 - Validation Accuracy = 0.5062000155448914\n",
      "Epoch 30, CIFAR-10 Batch 2:  Cost = 0.045515961945056915 - Validation Accuracy = 0.5023999810218811\n",
      "Epoch 30, CIFAR-10 Batch 3:  Cost = 0.06895329803228378 - Validation Accuracy = 0.5077999830245972\n",
      "Epoch 30, CIFAR-10 Batch 4:  Cost = 0.07297764718532562 - Validation Accuracy = 0.5077999830245972\n",
      "Epoch 30, CIFAR-10 Batch 5:  Cost = 0.13347996771335602 - Validation Accuracy = 0.5058000087738037\n",
      "Epoch 31, CIFAR-10 Batch 1:  Cost = 0.10798116028308868 - Validation Accuracy = 0.5045999884605408\n",
      "Epoch 31, CIFAR-10 Batch 2:  Cost = 0.02188917063176632 - Validation Accuracy = 0.5085999965667725\n",
      "Epoch 31, CIFAR-10 Batch 3:  Cost = 0.06800360977649689 - Validation Accuracy = 0.5123999714851379\n",
      "Epoch 31, CIFAR-10 Batch 4:  Cost = 0.05473744124174118 - Validation Accuracy = 0.5055999755859375\n",
      "Epoch 31, CIFAR-10 Batch 5:  Cost = 0.11060680449008942 - Validation Accuracy = 0.5009999871253967\n",
      "Epoch 32, CIFAR-10 Batch 1:  Cost = 0.08852369338274002 - Validation Accuracy = 0.5012000203132629\n",
      "Epoch 32, CIFAR-10 Batch 2:  Cost = 0.015263942070305347 - Validation Accuracy = 0.5081999897956848\n",
      "Epoch 32, CIFAR-10 Batch 3:  Cost = 0.04851040244102478 - Validation Accuracy = 0.5098000168800354\n",
      "Epoch 32, CIFAR-10 Batch 4:  Cost = 0.055768001824617386 - Validation Accuracy = 0.5019999742507935\n",
      "Epoch 32, CIFAR-10 Batch 5:  Cost = 0.07890976965427399 - Validation Accuracy = 0.4936000108718872\n",
      "Epoch 33, CIFAR-10 Batch 1:  Cost = 0.08131305873394012 - Validation Accuracy = 0.4968000054359436\n",
      "Epoch 33, CIFAR-10 Batch 2:  Cost = 0.015915045514702797 - Validation Accuracy = 0.5091999769210815\n",
      "Epoch 33, CIFAR-10 Batch 3:  Cost = 0.037961315363645554 - Validation Accuracy = 0.503600001335144\n",
      "Epoch 33, CIFAR-10 Batch 4:  Cost = 0.062372006475925446 - Validation Accuracy = 0.503000020980835\n",
      "Epoch 33, CIFAR-10 Batch 5:  Cost = 0.057306088507175446 - Validation Accuracy = 0.5022000074386597\n",
      "Epoch 34, CIFAR-10 Batch 1:  Cost = 0.06748789548873901 - Validation Accuracy = 0.4943999946117401\n",
      "Epoch 34, CIFAR-10 Batch 2:  Cost = 0.017862234264612198 - Validation Accuracy = 0.5094000101089478\n"
     ]
    },
    {
     "name": "stdout",
     "output_type": "stream",
     "text": [
      "Epoch 34, CIFAR-10 Batch 3:  Cost = 0.025839637964963913 - Validation Accuracy = 0.4997999966144562\n",
      "Epoch 34, CIFAR-10 Batch 4:  Cost = 0.05335488170385361 - Validation Accuracy = 0.5085999965667725\n",
      "Epoch 34, CIFAR-10 Batch 5:  Cost = 0.04443005099892616 - Validation Accuracy = 0.4973999857902527\n",
      "Epoch 35, CIFAR-10 Batch 1:  Cost = 0.05102457478642464 - Validation Accuracy = 0.5023999810218811\n",
      "Epoch 35, CIFAR-10 Batch 2:  Cost = 0.013674387708306313 - Validation Accuracy = 0.5090000033378601\n",
      "Epoch 35, CIFAR-10 Batch 3:  Cost = 0.03969293087720871 - Validation Accuracy = 0.49900001287460327\n",
      "Epoch 35, CIFAR-10 Batch 4:  Cost = 0.0684918612241745 - Validation Accuracy = 0.5076000094413757\n",
      "Epoch 35, CIFAR-10 Batch 5:  Cost = 0.04142623022198677 - Validation Accuracy = 0.5072000026702881\n",
      "Epoch 36, CIFAR-10 Batch 1:  Cost = 0.03170544281601906 - Validation Accuracy = 0.5152000188827515\n",
      "Epoch 36, CIFAR-10 Batch 2:  Cost = 0.01731262169778347 - Validation Accuracy = 0.4848000109195709\n",
      "Epoch 36, CIFAR-10 Batch 3:  Cost = 0.039107147604227066 - Validation Accuracy = 0.5008000135421753\n",
      "Epoch 36, CIFAR-10 Batch 4:  Cost = 0.044035810977220535 - Validation Accuracy = 0.5098000168800354\n",
      "Epoch 36, CIFAR-10 Batch 5:  Cost = 0.04101036489009857 - Validation Accuracy = 0.5145999789237976\n",
      "Epoch 37, CIFAR-10 Batch 1:  Cost = 0.026946643367409706 - Validation Accuracy = 0.5117999911308289\n",
      "Epoch 37, CIFAR-10 Batch 2:  Cost = 0.018329132348299026 - Validation Accuracy = 0.48080000281333923\n",
      "Epoch 37, CIFAR-10 Batch 3:  Cost = 0.027747178450226784 - Validation Accuracy = 0.5099999904632568\n",
      "Epoch 37, CIFAR-10 Batch 4:  Cost = 0.03046068176627159 - Validation Accuracy = 0.5049999952316284\n",
      "Epoch 37, CIFAR-10 Batch 5:  Cost = 0.02062937244772911 - Validation Accuracy = 0.519599974155426\n",
      "Epoch 38, CIFAR-10 Batch 1:  Cost = 0.01775708794593811 - Validation Accuracy = 0.5194000005722046\n",
      "Epoch 38, CIFAR-10 Batch 2:  Cost = 0.022545915096998215 - Validation Accuracy = 0.48980000615119934\n",
      "Epoch 38, CIFAR-10 Batch 3:  Cost = 0.019272152334451675 - Validation Accuracy = 0.5117999911308289\n",
      "Epoch 38, CIFAR-10 Batch 4:  Cost = 0.03002743050456047 - Validation Accuracy = 0.5031999945640564\n",
      "Epoch 38, CIFAR-10 Batch 5:  Cost = 0.021612780168652534 - Validation Accuracy = 0.521399974822998\n",
      "Epoch 39, CIFAR-10 Batch 1:  Cost = 0.020167700946331024 - Validation Accuracy = 0.5216000080108643\n",
      "Epoch 39, CIFAR-10 Batch 2:  Cost = 0.03289685398340225 - Validation Accuracy = 0.47859999537467957\n",
      "Epoch 39, CIFAR-10 Batch 3:  Cost = 0.011691036634147167 - Validation Accuracy = 0.5135999917984009\n",
      "Epoch 39, CIFAR-10 Batch 4:  Cost = 0.017460623756051064 - Validation Accuracy = 0.5058000087738037\n",
      "Epoch 39, CIFAR-10 Batch 5:  Cost = 0.022240037098526955 - Validation Accuracy = 0.5181999802589417\n",
      "Epoch 40, CIFAR-10 Batch 1:  Cost = 0.017138561233878136 - Validation Accuracy = 0.5230000019073486\n",
      "Epoch 40, CIFAR-10 Batch 2:  Cost = 0.023668304085731506 - Validation Accuracy = 0.503000020980835\n",
      "Epoch 40, CIFAR-10 Batch 3:  Cost = 0.00859079696238041 - Validation Accuracy = 0.5138000249862671\n",
      "Epoch 40, CIFAR-10 Batch 4:  Cost = 0.016667688265442848 - Validation Accuracy = 0.5105999708175659\n",
      "Epoch 40, CIFAR-10 Batch 5:  Cost = 0.01657712645828724 - Validation Accuracy = 0.5167999863624573\n",
      "Epoch 41, CIFAR-10 Batch 1:  Cost = 0.011190654709935188 - Validation Accuracy = 0.5216000080108643\n",
      "Epoch 41, CIFAR-10 Batch 2:  Cost = 0.015580317005515099 - Validation Accuracy = 0.5189999938011169\n",
      "Epoch 41, CIFAR-10 Batch 3:  Cost = 0.00893443077802658 - Validation Accuracy = 0.5167999863624573\n",
      "Epoch 41, CIFAR-10 Batch 4:  Cost = 0.0201126616448164 - Validation Accuracy = 0.5167999863624573\n",
      "Epoch 41, CIFAR-10 Batch 5:  Cost = 0.009987103752791882 - Validation Accuracy = 0.5188000202178955\n",
      "Epoch 42, CIFAR-10 Batch 1:  Cost = 0.008322964422404766 - Validation Accuracy = 0.5199999809265137\n",
      "Epoch 42, CIFAR-10 Batch 2:  Cost = 0.005949010141193867 - Validation Accuracy = 0.5206000208854675\n",
      "Epoch 42, CIFAR-10 Batch 3:  Cost = 0.009081253781914711 - Validation Accuracy = 0.5126000046730042\n",
      "Epoch 42, CIFAR-10 Batch 4:  Cost = 0.01240711659193039 - Validation Accuracy = 0.5202000141143799\n",
      "Epoch 42, CIFAR-10 Batch 5:  Cost = 0.00912243127822876 - Validation Accuracy = 0.5203999876976013\n",
      "Epoch 43, CIFAR-10 Batch 1:  Cost = 0.010163011960685253 - Validation Accuracy = 0.5242000222206116\n",
      "Epoch 43, CIFAR-10 Batch 2:  Cost = 0.00449794065207243 - Validation Accuracy = 0.5231999754905701\n",
      "Epoch 43, CIFAR-10 Batch 3:  Cost = 0.01181214489042759 - Validation Accuracy = 0.5095999836921692\n",
      "Epoch 43, CIFAR-10 Batch 4:  Cost = 0.01268583070486784 - Validation Accuracy = 0.5199999809265137\n",
      "Epoch 43, CIFAR-10 Batch 5:  Cost = 0.010925628244876862 - Validation Accuracy = 0.5293999910354614\n",
      "Epoch 44, CIFAR-10 Batch 1:  Cost = 0.008014245890080929 - Validation Accuracy = 0.5235999822616577\n",
      "Epoch 44, CIFAR-10 Batch 2:  Cost = 0.0018040286377072334 - Validation Accuracy = 0.524399995803833\n",
      "Epoch 44, CIFAR-10 Batch 3:  Cost = 0.004606062080711126 - Validation Accuracy = 0.5062000155448914\n",
      "Epoch 44, CIFAR-10 Batch 4:  Cost = 0.0036136857233941555 - Validation Accuracy = 0.5138000249862671\n",
      "Epoch 44, CIFAR-10 Batch 5:  Cost = 0.0072873919270932674 - Validation Accuracy = 0.5188000202178955\n",
      "Epoch 45, CIFAR-10 Batch 1:  Cost = 0.008014204911887646 - Validation Accuracy = 0.5189999938011169\n",
      "Epoch 45, CIFAR-10 Batch 2:  Cost = 0.0036529884673655033 - Validation Accuracy = 0.5199999809265137\n",
      "Epoch 45, CIFAR-10 Batch 3:  Cost = 0.007198341190814972 - Validation Accuracy = 0.5139999985694885\n",
      "Epoch 45, CIFAR-10 Batch 4:  Cost = 0.004754732362926006 - Validation Accuracy = 0.5099999904632568\n",
      "Epoch 45, CIFAR-10 Batch 5:  Cost = 0.013776441104710102 - Validation Accuracy = 0.5149999856948853\n",
      "Epoch 46, CIFAR-10 Batch 1:  Cost = 0.008058560080826283 - Validation Accuracy = 0.5216000080108643\n",
      "Epoch 46, CIFAR-10 Batch 2:  Cost = 0.004639149643480778 - Validation Accuracy = 0.520799994468689\n",
      "Epoch 46, CIFAR-10 Batch 3:  Cost = 0.006321473512798548 - Validation Accuracy = 0.510200023651123\n",
      "Epoch 46, CIFAR-10 Batch 4:  Cost = 0.00548351276665926 - Validation Accuracy = 0.5103999972343445\n",
      "Epoch 46, CIFAR-10 Batch 5:  Cost = 0.006516555789858103 - Validation Accuracy = 0.5121999979019165\n",
      "Epoch 47, CIFAR-10 Batch 1:  Cost = 0.0036973305977880955 - Validation Accuracy = 0.5257999897003174\n",
      "Epoch 47, CIFAR-10 Batch 2:  Cost = 0.0005268673994578421 - Validation Accuracy = 0.5189999938011169\n",
      "Epoch 47, CIFAR-10 Batch 3:  Cost = 0.001538768527098 - Validation Accuracy = 0.5109999775886536\n",
      "Epoch 47, CIFAR-10 Batch 4:  Cost = 0.008829369209706783 - Validation Accuracy = 0.504800021648407\n",
      "Epoch 47, CIFAR-10 Batch 5:  Cost = 0.003995074424892664 - Validation Accuracy = 0.5156000256538391\n",
      "Epoch 48, CIFAR-10 Batch 1:  Cost = 0.006195981055498123 - Validation Accuracy = 0.5220000147819519\n",
      "Epoch 48, CIFAR-10 Batch 2:  Cost = 0.001176995225250721 - Validation Accuracy = 0.5281999707221985\n",
      "Epoch 48, CIFAR-10 Batch 3:  Cost = 0.0015439966227859259 - Validation Accuracy = 0.5105999708175659\n",
      "Epoch 48, CIFAR-10 Batch 4:  Cost = 0.0046454682014882565 - Validation Accuracy = 0.5116000175476074\n",
      "Epoch 48, CIFAR-10 Batch 5:  Cost = 0.0031807124614715576 - Validation Accuracy = 0.5289999842643738\n",
      "Epoch 49, CIFAR-10 Batch 1:  Cost = 0.0026234087999910116 - Validation Accuracy = 0.5175999999046326\n",
      "Epoch 49, CIFAR-10 Batch 2:  Cost = 0.005008785519748926 - Validation Accuracy = 0.5275999903678894\n",
      "Epoch 49, CIFAR-10 Batch 3:  Cost = 0.0018161149928346276 - Validation Accuracy = 0.5045999884605408\n",
      "Epoch 49, CIFAR-10 Batch 4:  Cost = 0.004696432501077652 - Validation Accuracy = 0.5139999985694885\n",
      "Epoch 49, CIFAR-10 Batch 5:  Cost = 0.001749751390889287 - Validation Accuracy = 0.5238000154495239\n",
      "Epoch 50, CIFAR-10 Batch 1:  Cost = 0.00456108758226037 - Validation Accuracy = 0.5203999876976013\n",
      "Epoch 50, CIFAR-10 Batch 2:  Cost = 0.0009042864548973739 - Validation Accuracy = 0.5271999835968018\n",
      "Epoch 50, CIFAR-10 Batch 3:  Cost = 0.0065823025070130825 - Validation Accuracy = 0.5126000046730042\n",
      "Epoch 50, CIFAR-10 Batch 4:  Cost = 0.0044497037306427956 - Validation Accuracy = 0.5131999850273132\n"
     ]
    },
    {
     "name": "stdout",
     "output_type": "stream",
     "text": [
      "Epoch 50, CIFAR-10 Batch 5:  Cost = 0.0029174652881920338 - Validation Accuracy = 0.5152000188827515\n",
      "Epoch 51, CIFAR-10 Batch 1:  Cost = 0.00662298733368516 - Validation Accuracy = 0.5202000141143799\n",
      "Epoch 51, CIFAR-10 Batch 2:  Cost = 0.00047942055971361697 - Validation Accuracy = 0.5145999789237976\n",
      "Epoch 51, CIFAR-10 Batch 3:  Cost = 0.0017138586845248938 - Validation Accuracy = 0.5116000175476074\n",
      "Epoch 51, CIFAR-10 Batch 4:  Cost = 0.005078998394310474 - Validation Accuracy = 0.5162000060081482\n",
      "Epoch 51, CIFAR-10 Batch 5:  Cost = 0.0035016387701034546 - Validation Accuracy = 0.524399995803833\n",
      "Epoch 52, CIFAR-10 Batch 1:  Cost = 0.0035493560135364532 - Validation Accuracy = 0.5181999802589417\n",
      "Epoch 52, CIFAR-10 Batch 2:  Cost = 0.0016312632942572236 - Validation Accuracy = 0.5149999856948853\n",
      "Epoch 52, CIFAR-10 Batch 3:  Cost = 0.0019349532667547464 - Validation Accuracy = 0.5148000121116638\n",
      "Epoch 52, CIFAR-10 Batch 4:  Cost = 0.001479507191106677 - Validation Accuracy = 0.5189999938011169\n",
      "Epoch 52, CIFAR-10 Batch 5:  Cost = 0.0015215727034956217 - Validation Accuracy = 0.521399974822998\n",
      "Epoch 53, CIFAR-10 Batch 1:  Cost = 0.003858839627355337 - Validation Accuracy = 0.5252000093460083\n",
      "Epoch 53, CIFAR-10 Batch 2:  Cost = 0.001570166670717299 - Validation Accuracy = 0.5228000283241272\n",
      "Epoch 53, CIFAR-10 Batch 3:  Cost = 0.0027120509184896946 - Validation Accuracy = 0.5139999985694885\n",
      "Epoch 53, CIFAR-10 Batch 4:  Cost = 0.0006584704970009625 - Validation Accuracy = 0.5289999842643738\n",
      "Epoch 53, CIFAR-10 Batch 5:  Cost = 0.006823875941336155 - Validation Accuracy = 0.5139999985694885\n",
      "Epoch 54, CIFAR-10 Batch 1:  Cost = 0.002913076663389802 - Validation Accuracy = 0.5257999897003174\n",
      "Epoch 54, CIFAR-10 Batch 2:  Cost = 0.0004497708869166672 - Validation Accuracy = 0.5156000256538391\n",
      "Epoch 54, CIFAR-10 Batch 3:  Cost = 0.0021007186733186245 - Validation Accuracy = 0.5121999979019165\n",
      "Epoch 54, CIFAR-10 Batch 4:  Cost = 0.001311497762799263 - Validation Accuracy = 0.5217999815940857\n",
      "Epoch 54, CIFAR-10 Batch 5:  Cost = 0.003285052254796028 - Validation Accuracy = 0.5130000114440918\n",
      "Epoch 55, CIFAR-10 Batch 1:  Cost = 0.0017495661741122603 - Validation Accuracy = 0.524399995803833\n",
      "Epoch 55, CIFAR-10 Batch 2:  Cost = 0.0014782666694372892 - Validation Accuracy = 0.5206000208854675\n",
      "Epoch 55, CIFAR-10 Batch 3:  Cost = 0.0017602166626602411 - Validation Accuracy = 0.5163999795913696\n",
      "Epoch 55, CIFAR-10 Batch 4:  Cost = 0.0011640246957540512 - Validation Accuracy = 0.526199996471405\n",
      "Epoch 55, CIFAR-10 Batch 5:  Cost = 0.001165739493444562 - Validation Accuracy = 0.5235999822616577\n",
      "Epoch 56, CIFAR-10 Batch 1:  Cost = 0.0006284442497417331 - Validation Accuracy = 0.5253999829292297\n",
      "Epoch 56, CIFAR-10 Batch 2:  Cost = 0.0006821649149060249 - Validation Accuracy = 0.5217999815940857\n",
      "Epoch 56, CIFAR-10 Batch 3:  Cost = 0.000887989706825465 - Validation Accuracy = 0.5260000228881836\n",
      "Epoch 56, CIFAR-10 Batch 4:  Cost = 0.0008044089190661907 - Validation Accuracy = 0.524399995803833\n",
      "Epoch 56, CIFAR-10 Batch 5:  Cost = 0.0005939370603300631 - Validation Accuracy = 0.5194000005722046\n",
      "Epoch 57, CIFAR-10 Batch 1:  Cost = 0.0013526997063308954 - Validation Accuracy = 0.5275999903678894\n",
      "Epoch 57, CIFAR-10 Batch 2:  Cost = 0.002381655154749751 - Validation Accuracy = 0.5189999938011169\n",
      "Epoch 57, CIFAR-10 Batch 3:  Cost = 0.000764272699598223 - Validation Accuracy = 0.5148000121116638\n",
      "Epoch 57, CIFAR-10 Batch 4:  Cost = 0.0005720973131246865 - Validation Accuracy = 0.5228000283241272\n",
      "Epoch 57, CIFAR-10 Batch 5:  Cost = 0.000743138138204813 - Validation Accuracy = 0.5180000066757202\n",
      "Epoch 58, CIFAR-10 Batch 1:  Cost = 0.0018781207036226988 - Validation Accuracy = 0.524399995803833\n",
      "Epoch 58, CIFAR-10 Batch 2:  Cost = 0.0004547603311948478 - Validation Accuracy = 0.5127999782562256\n",
      "Epoch 58, CIFAR-10 Batch 3:  Cost = 0.0005256292060948908 - Validation Accuracy = 0.5198000073432922\n",
      "Epoch 58, CIFAR-10 Batch 4:  Cost = 0.0011894501512870193 - Validation Accuracy = 0.5212000012397766\n",
      "Epoch 58, CIFAR-10 Batch 5:  Cost = 0.0005820017540827394 - Validation Accuracy = 0.5152000188827515\n",
      "Epoch 59, CIFAR-10 Batch 1:  Cost = 0.0026531238108873367 - Validation Accuracy = 0.524399995803833\n",
      "Epoch 59, CIFAR-10 Batch 2:  Cost = 0.004806968383491039 - Validation Accuracy = 0.5171999931335449\n",
      "Epoch 59, CIFAR-10 Batch 3:  Cost = 0.0009478038991801441 - Validation Accuracy = 0.5170000195503235\n",
      "Epoch 59, CIFAR-10 Batch 4:  Cost = 0.001100936671718955 - Validation Accuracy = 0.5271999835968018\n",
      "Epoch 59, CIFAR-10 Batch 5:  Cost = 0.004961599130183458 - Validation Accuracy = 0.522599995136261\n",
      "Epoch 60, CIFAR-10 Batch 1:  Cost = 0.0032379801850765944 - Validation Accuracy = 0.5230000019073486\n",
      "Epoch 60, CIFAR-10 Batch 2:  Cost = 0.0007783165783621371 - Validation Accuracy = 0.5271999835968018\n",
      "Epoch 60, CIFAR-10 Batch 3:  Cost = 0.0009721294045448303 - Validation Accuracy = 0.5174000263214111\n",
      "Epoch 60, CIFAR-10 Batch 4:  Cost = 0.0009557470912113786 - Validation Accuracy = 0.5194000005722046\n",
      "Epoch 60, CIFAR-10 Batch 5:  Cost = 0.0016086462419480085 - Validation Accuracy = 0.5198000073432922\n"
     ]
    }
   ],
   "source": [
    "\"\"\"\n",
    "DON'T MODIFY ANYTHING IN THIS CELL\n",
    "\"\"\"\n",
    "save_model_path = './image_classification'\n",
    "\n",
    "print('Training...')\n",
    "with tf.Session() as sess:\n",
    "    # Initializing the variables\n",
    "    sess.run(tf.global_variables_initializer())\n",
    "    \n",
    "    # Training cycle\n",
    "    for epoch in range(epochs):\n",
    "        # Loop over all batches\n",
    "        n_batches = 5\n",
    "        for batch_i in range(1, n_batches + 1):\n",
    "            for batch_features, batch_labels in helper.load_preprocess_training_batch(batch_i, batch_size):\n",
    "                train_neural_network(sess, optimizer, keep_probability, batch_features, batch_labels)\n",
    "            print('Epoch {:>2}, CIFAR-10 Batch {}:  '.format(epoch + 1, batch_i), end='')\n",
    "            print_stats(sess, batch_features, batch_labels, cost, accuracy)\n",
    "            \n",
    "    # Save Model\n",
    "    saver = tf.train.Saver()\n",
    "    save_path = saver.save(sess, save_model_path)"
   ]
  },
  {
   "cell_type": "markdown",
   "metadata": {},
   "source": [
    "# Checkpoint\n",
    "The model has been saved to disk.\n",
    "## Test Model\n",
    "Test your model against the test dataset.  This will be your final accuracy. You should have an accuracy greater than 50%. If you don't, keep tweaking the model architecture and parameters."
   ]
  },
  {
   "cell_type": "code",
   "execution_count": 13,
   "metadata": {},
   "outputs": [
    {
     "name": "stdout",
     "output_type": "stream",
     "text": [
      "INFO:tensorflow:Restoring parameters from ./image_classification\n",
      "Testing Accuracy: 0.5190862341772152\n",
      "\n"
     ]
    },
    {
     "data": {
      "image/png": "[encoded data removed]",
      "text/plain": [
       "<matplotlib.figure.Figure at 0x24534f2fb00>"
      ]
     },
     "metadata": {
      "image/png": {
       "height": 319.0,
       "width": 355.0
      }
     },
     "output_type": "display_data"
    }
   ],
   "source": [
    "\"\"\"\n",
    "DON'T MODIFY ANYTHING IN THIS CELL\n",
    "\"\"\"\n",
    "%matplotlib inline\n",
    "%config InlineBackend.figure_format = 'retina'\n",
    "\n",
    "import tensorflow as tf\n",
    "import pickle\n",
    "import helper\n",
    "import random\n",
    "\n",
    "# Set batch size if not already set\n",
    "try:\n",
    "    if batch_size:\n",
    "        pass\n",
    "except NameError:\n",
    "    batch_size = 64\n",
    "\n",
    "save_model_path = './image_classification'\n",
    "n_samples = 4\n",
    "top_n_predictions = 3\n",
    "\n",
    "def test_model():\n",
    "    \"\"\"\n",
    "    Test the saved model against the test dataset\n",
    "    \"\"\"\n",
    "\n",
    "    test_features, test_labels = pickle.load(open('preprocess_test.p', mode='rb'))\n",
    "    loaded_graph = tf.Graph()\n",
    "\n",
    "    with tf.Session(graph=loaded_graph) as sess:\n",
    "        # Load model\n",
    "        loader = tf.train.import_meta_graph(save_model_path + '.meta')\n",
    "        loader.restore(sess, save_model_path)\n",
    "\n",
    "        # Get Tensors from loaded model\n",
    "        loaded_x = loaded_graph.get_tensor_by_name('x:0')\n",
    "        loaded_y = loaded_graph.get_tensor_by_name('y:0')\n",
    "        loaded_keep_prob = loaded_graph.get_tensor_by_name('keep_prob:0')\n",
    "        loaded_logits = loaded_graph.get_tensor_by_name('logits:0')\n",
    "        loaded_acc = loaded_graph.get_tensor_by_name('accuracy:0')\n",
    "        \n",
    "        # Get accuracy in batches for memory limitations\n",
    "        test_batch_acc_total = 0\n",
    "        test_batch_count = 0\n",
    "        \n",
    "        for test_feature_batch, test_label_batch in helper.batch_features_labels(test_features, test_labels, batch_size):\n",
    "            test_batch_acc_total += sess.run(\n",
    "                loaded_acc,\n",
    "                feed_dict={loaded_x: test_feature_batch, loaded_y: test_label_batch, loaded_keep_prob: 1.0})\n",
    "            test_batch_count += 1\n",
    "\n",
    "        print('Testing Accuracy: {}\\n'.format(test_batch_acc_total/test_batch_count))\n",
    "\n",
    "        # Print Random Samples\n",
    "        random_test_features, random_test_labels = tuple(zip(*random.sample(list(zip(test_features, test_labels)), n_samples)))\n",
    "        random_test_predictions = sess.run(\n",
    "            tf.nn.top_k(tf.nn.softmax(loaded_logits), top_n_predictions),\n",
    "            feed_dict={loaded_x: random_test_features, loaded_y: random_test_labels, loaded_keep_prob: 1.0})\n",
    "        helper.display_image_predictions(random_test_features, random_test_labels, random_test_predictions)\n",
    "\n",
    "\n",
    "test_model()"
   ]
  },
  {
   "cell_type": "markdown",
   "metadata": {},
   "source": [
    "## Why 50-80% Accuracy?\n",
    "You might be wondering why you can't get an accuracy any higher. First things first, 50% isn't bad for a simple CNN.  Pure guessing would get you 10% accuracy. However, you might notice people are getting scores [well above 80%](http://rodrigob.github.io/are_we_there_yet/build/classification_datasets_results.html#43494641522d3130).  That's because we haven't taught you all there is to know about neural networks. We still need to cover a few more techniques.\n",
    "## Submitting This Project\n",
    "When submitting this project, make sure to run all the cells before saving the notebook.  Save the notebook file as \"dlnd_image_classification.ipynb\" and save it as a HTML file under \"File\" -> \"Download as\".  Include the \"helper.py\" and \"problem_unittests.py\" files in your submission."
   ]
  }
 ],
 "metadata": {
  "kernelspec": {
   "display_name": "Python 3",
   "language": "python",
   "name": "python3"
  },
  "language_info": {
   "codemirror_mode": {
    "name": "ipython",
    "version": 3.0
   },
   "file_extension": ".py",
   "mimetype": "text/x-python",
   "name": "python",
   "nbconvert_exporter": "python",
   "pygments_lexer": "ipython3",
   "version": "3.5.0"
  }
 },
 "nbformat": 4,
 "nbformat_minor": 0
}